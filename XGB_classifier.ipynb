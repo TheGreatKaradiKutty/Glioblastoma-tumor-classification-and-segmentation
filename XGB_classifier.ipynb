{
  "nbformat": 4,
  "nbformat_minor": 0,
  "metadata": {
    "colab": {
      "provenance": []
    },
    "kernelspec": {
      "name": "python3",
      "display_name": "Python 3"
    },
    "language_info": {
      "name": "python"
    }
  },
  "cells": [
    {
      "cell_type": "code",
      "execution_count": null,
      "metadata": {
        "id": "DMuOCN8Fkelz"
      },
      "outputs": [],
      "source": [
        "!pip install pymrmr"
      ]
    },
    {
      "cell_type": "code",
      "source": [
        "from google.colab import drive\n",
        "drive.mount('/content/gdrive',force_remount=True)\n",
        "\n",
        "my_drive = '/content/gdrive/My Drive/'\n",
        "import sys\n",
        "sys.path.append(my_drive)"
      ],
      "metadata": {
        "colab": {
          "base_uri": "https://localhost:8080/"
        },
        "id": "MVt7uwB0mgJx",
        "outputId": "91ef7867-b23a-4d52-a54d-3602b78ac695"
      },
      "execution_count": null,
      "outputs": [
        {
          "output_type": "stream",
          "name": "stdout",
          "text": [
            "Mounted at /content/gdrive\n"
          ]
        }
      ]
    },
    {
      "cell_type": "code",
      "source": [
        "import io\n",
        "import pandas as pd\n",
        "import matplotlib.pyplot as plt\n",
        "import numpy as np\n",
        "import os\n",
        "import sklearn.metrics as metrics\n",
        "from sklearn.metrics import precision_score\n",
        "from sklearn.metrics import recall_score\n",
        "from sklearn.metrics import roc_curve\n",
        "from sklearn.metrics import roc_auc_score\n",
        "from sklearn.model_selection import StratifiedKFold\n",
        "from xgboost import XGBClassifier\n",
        "from sklearn.metrics import accuracy_score\n",
        "from sklearn.metrics import f1_score\n",
        "from sklearn.pipeline import make_pipeline\n",
        "import statistics\n",
        "from sklearn.metrics import matthews_corrcoef\n",
        "import pymrmr\n",
        "import pickle\n",
        "import joblib\n",
        "from sklearn.metrics import plot_confusion_matrix"
      ],
      "metadata": {
        "id": "AZPIZCq5mQM9"
      },
      "execution_count": null,
      "outputs": []
    },
    {
      "cell_type": "code",
      "source": [
        "data_dir = '/content/gdrive/My Drive/Brats 2018/MICCAI_BraTS_2018_Data_Training/'"
      ],
      "metadata": {
        "id": "K0-_2i2Hmixz"
      },
      "execution_count": null,
      "outputs": []
    },
    {
      "cell_type": "code",
      "source": [
        "hgg1=pd.read_csv(data_dir + \"HGG_data.csv\")#Path to csv\n",
        "lgg1=pd.read_csv(data_dir + \"LGG_data.csv\")"
      ],
      "metadata": {
        "id": "qOT6GwZvm8Tt"
      },
      "execution_count": null,
      "outputs": []
    },
    {
      "cell_type": "code",
      "source": [
        "lgg1[\"GRADE\"]=0\n",
        "hgg1[\"GRADE\"]=1\n",
        "hgg= hgg1.sample(frac=1, random_state=42).reset_index(drop=True)\n",
        "lgg= lgg1.sample(frac=1, random_state=42).reset_index(drop=True)"
      ],
      "metadata": {
        "id": "L3BJCi7dAwGl"
      },
      "execution_count": null,
      "outputs": []
    },
    {
      "cell_type": "code",
      "source": [
        "auc_lr=[]\n",
        "spe_lr=[]\n",
        "sen_lr=[]\n",
        "mcc_lr=[]\n",
        "acc_lr=[]\n",
        "f1_lr=[]\n",
        "pre_lr=[]\n",
        "rec_lr=[]\n",
        "pre_lrt=[]\n",
        "rec_lrt=[]\n",
        "auc_lrt=[]\n",
        "spe_lrt=[]\n",
        "mcc_lrt=[]\n",
        "sen_lrt=[]\n",
        "acc_lrt=[]\n",
        "f1_lrt=[]"
      ],
      "metadata": {
        "id": "iukGf2tEAyJS"
      },
      "execution_count": null,
      "outputs": []
    },
    {
      "cell_type": "code",
      "source": [
        "master=pd.concat([lgg, hgg])\n",
        "master= master.sample(frac=1, random_state=42).reset_index(drop=True)\n",
        "master= pd.concat([master[\"GRADE\"], master.drop(\"GRADE\", axis=1)], axis=1)\n",
        "Y=master[\"GRADE\"]\n",
        "master = (master - master.min()) / (master.max() - master.min())"
      ],
      "metadata": {
        "id": "R5irda3sA1Rl"
      },
      "execution_count": null,
      "outputs": []
    },
    {
      "cell_type": "code",
      "source": [
        "#my_model = XGBClassifier(n_estimators=450, max_depth=2, learning_rate=0.08)\n",
        "model_list = []\n",
        "model_result_list=[]\n",
        "model_predicted=[]\n",
        "\n",
        "x_test_vals = []\n",
        "y_test_vals = []\n",
        "\n",
        "cv = StratifiedKFold(n_splits=5, random_state=42, shuffle=True)\n",
        "for train_index, test_index in cv.split(master, Y):\n",
        "    #print(\"Train Index: \", train_index, \"\\n\")\n",
        "    #print(\"Test Index: \", test_index)\n",
        "\n",
        "    train, test = master.iloc[train_index], master.iloc[test_index]\n",
        "    Y_train, Y_test= Y.iloc[train_index], Y.iloc[test_index]\n",
        "    features=pymrmr.mRMR(train, 'MIQ',43)\n",
        "    print(\"Best Features: \", features)\n",
        "\n",
        "    dataset=master[features]\n",
        "\n",
        "    X_train=dataset.iloc[train_index]\n",
        "    X_test=dataset.iloc[test_index]\n",
        "\n",
        "    clf = XGBClassifier(n_estimators=450, max_depth=2, learning_rate=0.08)\n",
        "    clf.fit(X_train, Y_train)\n",
        "\n",
        "    my_model = clf\n",
        "    model_list.append(clf)\n",
        "\n",
        "    pred = clf.predict(X_test)\n",
        "\n",
        "    x_test_vals.append(X_test)\n",
        "    y_test_vals.append(Y_test)\n",
        "\n",
        "    model_predicted.append(pred)\n",
        "    cm = metrics.confusion_matrix(Y_test, pred)\n",
        "    TP = cm[1][1]\n",
        "    TN = cm[0][0]\n",
        "    FP = cm[0][1]\n",
        "    FN = cm[1][0]\n",
        "    sen_l = (TP / float(TP + FN))\n",
        "    spe_l = (TN / float(TN + FP))\n",
        "    pre_l = precision_score(Y_test, pred)\n",
        "    rec_l = recall_score(Y_test, pred)\n",
        "    mcc_l = matthews_corrcoef(Y_test, pred)\n",
        "    acc_l = accuracy_score(Y_test, pred)\n",
        "    probs = clf.predict_proba(X_test)\n",
        "    probs = probs[:, 1]\n",
        "    auc_l = roc_auc_score(Y_test, probs)\n",
        "    f1_l= f1_score(Y_test, pred)\n",
        "\n",
        "\n",
        "    pred = clf.predict(X_train)\n",
        "\n",
        "    cm = metrics.confusion_matrix(Y_train, pred)\n",
        "    TP = cm[1][1]\n",
        "    TN = cm[0][0]\n",
        "    FP = cm[0][1]\n",
        "    FN = cm[1][0]\n",
        "    sen_lt = (TP / float(TP + FN))\n",
        "    spe_lt = (TN / float(TN + FP))\n",
        "    pre_lt = precision_score(Y_train, pred)\n",
        "    rec_lt = recall_score(Y_train, pred)\n",
        "    mcc_lt = matthews_corrcoef(Y_train, pred)\n",
        "    acc_lt = accuracy_score(Y_train, pred)\n",
        "    probs = clf.predict_proba(X_train)\n",
        "    probs = probs[:, 1]\n",
        "    auc_lt = roc_auc_score(Y_train, probs)\n",
        "    f1_lt = f1_score(Y_train, pred)\n",
        "\n",
        "\n",
        "    auc_lr.append(auc_l)\n",
        "    spe_lr.append(spe_l)\n",
        "    sen_lr.append(sen_l)\n",
        "    mcc_lr.append(mcc_l)\n",
        "    acc_lr.append(acc_l)\n",
        "    f1_lr.append(f1_l)\n",
        "    rec_lr.append(rec_l)\n",
        "    pre_lr.append(pre_l)\n",
        "\n",
        "    pre_lrt.append(pre_lt)\n",
        "    rec_lrt.append(rec_lt)\n",
        "    auc_lrt.append(auc_lt)\n",
        "    spe_lrt.append(spe_lt)\n",
        "    sen_lrt.append(sen_lt)\n",
        "    mcc_lrt.append(mcc_lt)\n",
        "    acc_lrt.append(acc_lt)\n",
        "    f1_lrt.append(f1_lt)\n",
        "\n",
        "    data = { \"phase\":[\"Training\", \"Testing\"],\n",
        "          \"Precision Train\" : [statistics.mean(pre_lr), statistics.mean(pre_lrt)],\n",
        "          \"Recall Train\" : [statistics.mean(rec_lr), statistics.mean(rec_lrt)],\n",
        "          \"Accuracy Train\" : [statistics.mean(acc_lr), statistics.mean(acc_lrt)],\n",
        "          \"AUC Train\" : [statistics.mean(auc_lr), statistics.mean(auc_lrt)],\n",
        "          \"F1 Score Train\" : [statistics.mean(f1_lr), statistics.mean(f1_lrt)]\n",
        "        }\n",
        "    model_result_list.append(data)\n",
        "\n",
        "    model_list.append(clf)\n",
        "\n",
        "# with open('saved_model_XGB', \"wb\") as f:\n",
        "#   pickle.dumps(my_model, f)\n",
        "\n",
        "#joblib.dump(my_model, data_dir + 'XGB_model.pkl')\n",
        "\n",
        "\n",
        "print(\"TRAIN:\")\n",
        "print(\"PRE:\", statistics.mean(pre_lrt))\n",
        "print(\"REC:\", statistics.mean(rec_lrt))\n",
        "print(\"SPE:\", statistics.mean(spe_lrt))\n",
        "print(\"MCC:\", statistics.mean(mcc_lrt))\n",
        "print(\"SEN:\", statistics.mean(sen_lrt))\n",
        "print(\"ACC:\", statistics.mean(acc_lrt))\n",
        "print(\"AUC:\", statistics.mean(auc_lrt))\n",
        "print(\"F1:\", statistics.mean(f1_lrt))\n",
        "\n",
        "print(\"TEST:\")\n",
        "print(\"PRE:\", statistics.mean(pre_lr))\n",
        "print(\"REC:\", statistics.mean(rec_lr))\n",
        "print(\"SPE:\", statistics.mean(spe_lr))\n",
        "print(\"MCC:\", statistics.mean(mcc_lr))\n",
        "print(\"SEN:\", statistics.mean(sen_lr))\n",
        "print(\"ACC:\", statistics.mean(acc_lr))\n",
        "print(\"AUC:\", statistics.mean(auc_lr))\n",
        "print(\"F1:\", statistics.mean(f1_lr))"
      ],
      "metadata": {
        "colab": {
          "base_uri": "https://localhost:8080/"
        },
        "id": "N39gE4pbBFTi",
        "outputId": "594b2061-dd9b-4caa-8cef-88aa4bc849e5"
      },
      "execution_count": null,
      "outputs": [
        {
          "output_type": "stream",
          "name": "stdout",
          "text": [
            "Best Features:  ['original_firstorder_Maximum ROI 2', 'original_firstorder_Skewness ROI 2', 'original_glszm_SmallAreaEmphasis ROI 2', 'original_glrlm_LongRunEmphasis ROI 1', 'original_glrlm_GrayLevelNonUniformity ROI 1', 'original_firstorder_RootMeanSquared ROI 2', 'original_glszm_GrayLevelNonUniformityNormalized ROI 2', 'original_gldm_DependenceNonUniformityNormalized ROI 1', 'original_shape_Elongation ROI 3', 'original_ngtdm_Busyness ROI 1', 'original_shape_Sphericity ROI 2', 'original_glcm_MCC ROI 1', 'original_gldm_DependenceNonUniformity ROI 2', 'original_glcm_Idmn ROI 1', 'original_firstorder_TotalEnergy ROI 2', 'original_glrlm_RunPercentage ROI 1', 'original_glrlm_RunLengthNonUniformity ROI 1', 'original_firstorder_TotalEnergy ROI 3', 'original_firstorder_Kurtosis ROI 2', 'original_glszm_GrayLevelVariance ROI 3', 'original_ngtdm_Strength ROI 2', 'original_shape_Flatness ROI 3', 'original_ngtdm_Coarseness ROI 2', 'original_gldm_SmallDependenceLowGrayLevelEmphasis ROI 2', 'original_glrlm_ShortRunLowGrayLevelEmphasis ROI 2', 'original_glrlm_RunEntropy ROI 2', 'original_glrlm_ShortRunEmphasis ROI 3', 'original_shape_MajorAxisLength ROI 3', 'original_shape_MinorAxisLength ROI 3', 'original_firstorder_Kurtosis ROI 3', 'original_shape_Maximum2DDiameterRow ROI 3', 'original_gldm_DependenceVariance ROI 1', 'original_firstorder_Skewness ROI 1', 'original_glcm_InverseVariance ROI 2', 'original_shape_Elongation ROI 2', 'original_ngtdm_Contrast ROI 2', 'original_glszm_GrayLevelNonUniformity ROI 2', 'original_glrlm_ShortRunHighGrayLevelEmphasis ROI 2', 'original_glrlm_RunLengthNonUniformity ROI 2', 'original_glszm_SizeZoneNonUniformity ROI 2', 'original_glszm_ZoneEntropy ROI 2', 'original_glrlm_GrayLevelVariance ROI 2', 'original_glszm_HighGrayLevelZoneEmphasis ROI 2']\n",
            "Best Features:  ['original_firstorder_Maximum ROI 2', 'original_glszm_LargeAreaEmphasis ROI 1', 'original_glszm_LargeAreaHighGrayLevelEmphasis ROI 1', 'original_firstorder_Mean ROI 3', 'original_glcm_MCC ROI 1', 'original_gldm_DependenceNonUniformityNormalized ROI 1', 'original_glcm_Imc2 ROI 1', 'original_glszm_GrayLevelNonUniformityNormalized ROI 2', 'original_firstorder_Skewness ROI 2', 'original_gldm_DependenceNonUniformity ROI 2', 'original_shape_Elongation ROI 3', 'original_ngtdm_Busyness ROI 1', 'original_shape_Sphericity ROI 2', 'original_glcm_Idmn ROI 1', 'original_firstorder_TotalEnergy ROI 3', 'original_glrlm_ShortRunEmphasis ROI 1', 'original_firstorder_RootMeanSquared ROI 3', 'original_glszm_SizeZoneNonUniformity ROI 1', 'original_glrlm_RunEntropy ROI 1', 'original_glszm_GrayLevelVariance ROI 3', 'original_firstorder_Range ROI 2', 'original_glszm_LargeAreaLowGrayLevelEmphasis ROI 2', 'original_shape_Flatness ROI 3', 'original_shape_Maximum2DDiameterColumn ROI 3', 'original_gldm_SmallDependenceLowGrayLevelEmphasis ROI 2', 'original_gldm_LowGrayLevelEmphasis ROI 2', 'original_ngtdm_Coarseness ROI 3', 'original_glcm_DifferenceAverage ROI 3', 'original_shape_Maximum2DDiameterRow ROI 3', 'original_glrlm_RunLengthNonUniformityNormalized ROI 3', 'original_shape_MinorAxisLength ROI 3', 'original_shape_Elongation ROI 2', 'original_gldm_DependenceVariance ROI 1', 'original_glcm_DifferenceAverage ROI 2', 'original_shape_SurfaceVolumeRatio ROI 1', 'original_glszm_SizeZoneNonUniformity ROI 2', 'original_ngtdm_Contrast ROI 2', 'original_glszm_SmallAreaHighGrayLevelEmphasis ROI 2', 'original_ngtdm_Complexity ROI 2', 'original_ngtdm_Contrast ROI 3', 'original_gldm_DependenceEntropy ROI 2', 'original_glrlm_ShortRunLowGrayLevelEmphasis ROI 3', 'original_glszm_GrayLevelNonUniformity ROI 2']\n",
            "Best Features:  ['original_firstorder_Maximum ROI 1', 'original_firstorder_Range ROI 2', 'original_glszm_ZoneVariance ROI 1', 'original_glszm_SmallAreaEmphasis ROI 1', 'original_shape_MeshVolume ROI 2', 'original_shape_MinorAxisLength ROI 2', 'original_shape_Sphericity ROI 2', 'original_glrlm_RunEntropy ROI 1', 'original_glrlm_LongRunEmphasis ROI 1', 'original_glszm_LargeAreaHighGrayLevelEmphasis ROI 1', 'original_firstorder_Mean ROI 3', 'original_glszm_LowGrayLevelZoneEmphasis ROI 2', 'original_glcm_Imc2 ROI 1', 'original_gldm_DependenceNonUniformityNormalized ROI 3', 'original_glcm_MCC ROI 1', 'original_glszm_ZonePercentage ROI 1', 'original_firstorder_TotalEnergy ROI 3', 'original_firstorder_RootMeanSquared ROI 3', 'original_glrlm_RunLengthNonUniformity ROI 1', 'original_glszm_LargeAreaEmphasis ROI 2', 'original_shape_Maximum3DDiameter ROI 3', 'original_ngtdm_Coarseness ROI 3', 'original_shape_MinorAxisLength ROI 3', 'original_glrlm_ShortRunLowGrayLevelEmphasis ROI 2', 'original_shape_Maximum2DDiameterRow ROI 3', 'original_glszm_GrayLevelVariance ROI 2', 'original_ngtdm_Contrast ROI 2', 'original_glcm_DifferenceEntropy ROI 3', 'original_gldm_LargeDependenceHighGrayLevelEmphasis ROI 3', 'original_firstorder_Kurtosis ROI 3', 'original_glrlm_RunEntropy ROI 2', 'original_shape_Elongation ROI 2', 'original_shape_SurfaceVolumeRatio ROI 1', 'original_firstorder_Skewness ROI 1', 'original_gldm_SmallDependenceLowGrayLevelEmphasis ROI 2', 'original_glcm_Autocorrelation ROI 3', 'original_firstorder_Range ROI 3', 'original_shape_Maximum2DDiameterSlice ROI 3', 'original_glrlm_ShortRunHighGrayLevelEmphasis ROI 2', 'original_glrlm_ShortRunEmphasis ROI 2', 'original_glszm_ZoneEntropy ROI 2', 'original_glszm_GrayLevelNonUniformity ROI 2', 'original_glszm_HighGrayLevelZoneEmphasis ROI 2']\n",
            "Best Features:  ['original_firstorder_Maximum ROI 1', 'original_glrlm_RunVariance ROI 1', 'original_glrlm_RunEntropy ROI 1', 'original_glszm_SmallAreaEmphasis ROI 2', 'original_glcm_JointAverage ROI 3', 'original_glszm_LargeAreaEmphasis ROI 1', 'original_glszm_LargeAreaHighGrayLevelEmphasis ROI 1', 'original_gldm_LargeDependenceHighGrayLevelEmphasis ROI 1', 'original_glszm_GrayLevelNonUniformityNormalized ROI 2', 'original_firstorder_Skewness ROI 2', 'original_glszm_LargeAreaHighGrayLevelEmphasis ROI 2', 'original_ngtdm_Busyness ROI 2', 'original_gldm_DependenceNonUniformity ROI 2', 'original_glcm_Idmn ROI 1', 'original_glcm_Imc2 ROI 1', 'original_glrlm_RunLengthNonUniformityNormalized ROI 1', 'original_firstorder_Median ROI 2', 'original_firstorder_Energy ROI 3', 'original_firstorder_Range ROI 3', 'original_glszm_GrayLevelVariance ROI 3', 'original_glszm_LargeAreaEmphasis ROI 2', 'original_shape_Flatness ROI 3', 'original_ngtdm_Strength ROI 2', 'original_glrlm_GrayLevelVariance ROI 2', 'original_glrlm_LowGrayLevelRunEmphasis ROI 2', 'original_glrlm_RunEntropy ROI 2', 'original_glrlm_RunLengthNonUniformity ROI 2', 'original_glrlm_RunLengthNonUniformityNormalized ROI 3', 'original_ngtdm_Contrast ROI 3', 'original_ngtdm_Coarseness ROI 3', 'original_firstorder_Kurtosis ROI 3', 'original_glcm_DifferenceEntropy ROI 3', 'original_shape_Maximum2DDiameterRow ROI 3', 'original_gldm_SmallDependenceLowGrayLevelEmphasis ROI 2', 'original_shape_Elongation ROI 2', 'original_firstorder_Skewness ROI 1', 'original_glcm_Imc1 ROI 2', 'original_glcm_InverseVariance ROI 2', 'original_shape_SurfaceVolumeRatio ROI 1', 'original_glrlm_ShortRunEmphasis ROI 2', 'original_glszm_SizeZoneNonUniformity ROI 2', 'original_glszm_ZoneEntropy ROI 2', 'original_glszm_LowGrayLevelZoneEmphasis ROI 2']\n",
            "Best Features:  ['original_firstorder_Maximum ROI 1', 'original_glszm_LargeAreaEmphasis ROI 1', 'original_glszm_LargeAreaHighGrayLevelEmphasis ROI 1', 'original_glrlm_RunEntropy ROI 3', 'original_glszm_HighGrayLevelZoneEmphasis ROI 1', 'original_glszm_LargeAreaHighGrayLevelEmphasis ROI 2', 'original_glszm_SizeZoneNonUniformityNormalized ROI 1', 'original_glrlm_LongRunEmphasis ROI 3', 'original_ngtdm_Busyness ROI 1', 'original_gldm_DependenceNonUniformity ROI 2', 'original_firstorder_Skewness ROI 2', 'original_shape_Elongation ROI 1', 'original_shape_Sphericity ROI 2', 'original_gldm_DependenceNonUniformityNormalized ROI 3', 'original_glcm_Idmn ROI 1', 'original_glcm_MCC ROI 1', 'original_glcm_Imc2 ROI 1', 'original_glrlm_RunLengthNonUniformity ROI 3', 'original_glszm_GrayLevelVariance ROI 3', 'original_firstorder_Median ROI 2', 'original_firstorder_Kurtosis ROI 2', 'original_firstorder_Kurtosis ROI 3', 'original_firstorder_MeanAbsoluteDeviation ROI 3', 'original_glcm_InverseVariance ROI 2', 'original_glcm_Imc2 ROI 2', 'original_glcm_DifferenceAverage ROI 3', 'original_glszm_GrayLevelVariance ROI 2', 'original_shape_Flatness ROI 3', 'original_shape_MajorAxisLength ROI 3', 'original_glrlm_RunEntropy ROI 2', 'original_glrlm_RunLengthNonUniformity ROI 2', 'original_shape_MinorAxisLength ROI 3', 'original_glcm_Imc1 ROI 2', 'original_glszm_LowGrayLevelZoneEmphasis ROI 3', 'original_glcm_Correlation ROI 1', 'original_glrlm_ShortRunEmphasis ROI 3', 'original_shape_SurfaceVolumeRatio ROI 1', 'original_firstorder_Skewness ROI 1', 'original_gldm_SmallDependenceEmphasis ROI 2', 'original_firstorder_Minimum ROI 3', 'original_glcm_ClusterShade ROI 3', 'original_gldm_DependenceEntropy ROI 2', 'original_glcm_InverseVariance ROI 3']\n",
            "TRAIN:\n",
            "PRE: 1.0\n",
            "REC: 1.0\n",
            "SPE: 1.0\n",
            "MCC: 1.0\n",
            "SEN: 1.0\n",
            "ACC: 1.0\n",
            "AUC: 1.0\n",
            "F1: 1.0\n",
            "TEST:\n",
            "PRE: 0.9211886304909561\n",
            "REC: 0.9475029036004645\n",
            "SPE: 0.7714285714285715\n",
            "MCC: 0.7413859087994769\n",
            "SEN: 0.9475029036004645\n",
            "ACC: 0.9011904761904762\n",
            "AUC: 0.9425175598694763\n",
            "F1: 0.9338896488828089\n"
          ]
        }
      ]
    },
    {
      "cell_type": "code",
      "source": [
        "model_result_list[4]\n",
        "my_model = model_list[4]\n",
        "\n",
        "joblib.dump(my_model, data_dir + 'XGB_model_01.pkl')"
      ],
      "metadata": {
        "colab": {
          "base_uri": "https://localhost:8080/"
        },
        "id": "CLy2R3O9ZfGL",
        "outputId": "4d00fb12-24dc-4731-af50-3e9472788405"
      },
      "execution_count": null,
      "outputs": [
        {
          "output_type": "execute_result",
          "data": {
            "text/plain": [
              "['/content/gdrive/My Drive/Brats 2018/MICCAI_BraTS_2018_Data_Training/XGB_model_01.pkl']"
            ]
          },
          "metadata": {},
          "execution_count": 17
        }
      ]
    },
    {
      "cell_type": "code",
      "source": [
        "x = x_test_vals[7]\n",
        "y = y_test_vals[7]"
      ],
      "metadata": {
        "id": "FUKBwQBtuePF"
      },
      "execution_count": null,
      "outputs": []
    },
    {
      "cell_type": "code",
      "source": [
        "plot_confusion_matrix(my_model, x, y)"
      ],
      "metadata": {
        "id": "4riiGGO4sUX8"
      },
      "execution_count": null,
      "outputs": []
    },
    {
      "cell_type": "code",
      "source": [
        "# data = { \"phase\":[\"Training\", \"Testing\"],\n",
        "#           \"Precision Train\" : [pre_lr, pre_lrt],\n",
        "#           \"Recall Train\" : [rec_lr, rec_lrt],\n",
        "#           \"Accuracy Train\" : [acc_lr, acc_lrt],\n",
        "#           \"AUC Train\" : [auc_lr, auc_lrt],\n",
        "#           \"F1 Score Train\" : [f1_lr, f1_lrt]\n",
        "#         }\n",
        "\n",
        "metrics = pd.DataFrame.from_dict(data)"
      ],
      "metadata": {
        "id": "dvN8J6dgBYxh"
      },
      "execution_count": null,
      "outputs": []
    },
    {
      "cell_type": "code",
      "source": [
        "metrics.to_csv(\"/content/gdrive/My Drive/Brats 2018/MICCAI_BraTS_2018_Data_Training/metrics.csv\")"
      ],
      "metadata": {
        "id": "zG4uO65MK0M0"
      },
      "execution_count": null,
      "outputs": []
    },
    {
      "cell_type": "code",
      "source": [
        "cv = StratifiedKFold(n_splits=5, random_state=42, shuffle=True)\n",
        "cv.split(master,Y)"
      ],
      "metadata": {
        "colab": {
          "base_uri": "https://localhost:8080/"
        },
        "id": "xW4i6S83S9kz",
        "outputId": "fa172427-4c2d-4c46-e5e0-abdb47691813"
      },
      "execution_count": null,
      "outputs": [
        {
          "output_type": "execute_result",
          "data": {
            "text/plain": [
              "<generator object _BaseKFold.split at 0x7f03ca1c74d0>"
            ]
          },
          "metadata": {},
          "execution_count": 23
        }
      ]
    },
    {
      "cell_type": "code",
      "source": [
        "train_idx=[]\n",
        "test_idx=[]\n",
        "for train_index, test_index in cv.split(master, Y):\n",
        "  train_idx = train_index\n",
        "  test_idx = test_index\n",
        "  print(\"Train Index: \", train_index, \"\\n\")\n",
        "  print(\"Test Index: \", test_index)\n"
      ],
      "metadata": {
        "id": "YSM-lsjFTLub"
      },
      "execution_count": null,
      "outputs": []
    },
    {
      "cell_type": "code",
      "source": [
        " master.iloc[train_idx]"
      ],
      "metadata": {
        "id": "5VYULkIST1Xb"
      },
      "execution_count": null,
      "outputs": []
    },
    {
      "cell_type": "code",
      "source": [
        "model_result_list[2]"
      ],
      "metadata": {
        "id": "H5SWUnJDUNI3"
      },
      "execution_count": null,
      "outputs": []
    },
    {
      "cell_type": "code",
      "source": [
        "master"
      ],
      "metadata": {
        "id": "MyUTPXbfd3xy"
      },
      "execution_count": null,
      "outputs": []
    },
    {
      "cell_type": "code",
      "source": [
        "a = '/content/gdrive/My Drive/Brats 2018/MICCAI_BraTS_2018_Data_Training/XGB_model_01.pkl'\n",
        "\n",
        "fileobj = open(a, 'rb')\n",
        "\n",
        "b = pickle.load(fileobj)\n",
        "\n",
        "print(b)"
      ],
      "metadata": {
        "colab": {
          "base_uri": "https://localhost:8080/",
          "height": 234
        },
        "id": "ta_VRfpGgEdC",
        "outputId": "73179c75-5cc2-4cdb-ad49-cf99105ed2de"
      },
      "execution_count": null,
      "outputs": [
        {
          "output_type": "error",
          "ename": "UnpicklingError",
          "evalue": "ignored",
          "traceback": [
            "\u001b[0;31m---------------------------------------------------------------------------\u001b[0m",
            "\u001b[0;31mUnpicklingError\u001b[0m                           Traceback (most recent call last)",
            "\u001b[0;32m<ipython-input-18-91e4de17fd02>\u001b[0m in \u001b[0;36m<module>\u001b[0;34m()\u001b[0m\n\u001b[1;32m      3\u001b[0m \u001b[0mfileobj\u001b[0m \u001b[0;34m=\u001b[0m \u001b[0mopen\u001b[0m\u001b[0;34m(\u001b[0m\u001b[0ma\u001b[0m\u001b[0;34m,\u001b[0m \u001b[0;34m'rb'\u001b[0m\u001b[0;34m)\u001b[0m\u001b[0;34m\u001b[0m\u001b[0;34m\u001b[0m\u001b[0m\n\u001b[1;32m      4\u001b[0m \u001b[0;34m\u001b[0m\u001b[0m\n\u001b[0;32m----> 5\u001b[0;31m \u001b[0mb\u001b[0m \u001b[0;34m=\u001b[0m \u001b[0mpickle\u001b[0m\u001b[0;34m.\u001b[0m\u001b[0mload\u001b[0m\u001b[0;34m(\u001b[0m\u001b[0mfileobj\u001b[0m\u001b[0;34m)\u001b[0m\u001b[0;34m\u001b[0m\u001b[0;34m\u001b[0m\u001b[0m\n\u001b[0m\u001b[1;32m      6\u001b[0m \u001b[0;34m\u001b[0m\u001b[0m\n\u001b[1;32m      7\u001b[0m \u001b[0mprint\u001b[0m\u001b[0;34m(\u001b[0m\u001b[0mb\u001b[0m\u001b[0;34m)\u001b[0m\u001b[0;34m\u001b[0m\u001b[0;34m\u001b[0m\u001b[0m\n",
            "\u001b[0;31mUnpicklingError\u001b[0m: invalid load key, '\\x00'."
          ]
        }
      ]
    },
    {
      "cell_type": "code",
      "source": [
        "fet = ['original_firstorder_Maximum ROI 1', 'original_glszm_LargeAreaEmphasis ROI 1', 'original_glszm_LargeAreaHighGrayLevelEmphasis ROI 1',\n",
        "       'original_glrlm_RunEntropy ROI 3', 'original_glszm_HighGrayLevelZoneEmphasis ROI 1', 'original_glszm_LargeAreaHighGrayLevelEmphasis ROI 2',\n",
        "       'original_glszm_SizeZoneNonUniformityNormalized ROI 1', 'original_glrlm_LongRunEmphasis ROI 3', 'original_ngtdm_Busyness ROI 1',\n",
        "       'original_gldm_DependenceNonUniformity ROI 2', 'original_firstorder_Skewness ROI 2', 'original_shape_Elongation ROI 1',\n",
        "       'original_shape_Sphericity ROI 2', 'original_gldm_DependenceNonUniformityNormalized ROI 3', 'original_glcm_Idmn ROI 1',\n",
        "       'original_glcm_MCC ROI 1', 'original_glcm_Imc2 ROI 1', 'original_glrlm_RunLengthNonUniformity ROI 3', 'original_glszm_GrayLevelVariance ROI 3',\n",
        "       'original_firstorder_Median ROI 2', 'original_firstorder_Kurtosis ROI 2', 'original_firstorder_Kurtosis ROI 3',\n",
        "       'original_firstorder_MeanAbsoluteDeviation ROI 3', 'original_glcm_InverseVariance ROI 2', 'original_glcm_Imc2 ROI 2',\n",
        "       'original_glcm_DifferenceAverage ROI 3', 'original_glszm_GrayLevelVariance ROI 2', 'original_shape_Flatness ROI 3', 'original_shape_MajorAxisLength ROI 3',\n",
        "       'original_glrlm_RunEntropy ROI 2', 'original_glrlm_RunLengthNonUniformity ROI 2', 'original_shape_MinorAxisLength ROI 3', 'original_glcm_Imc1 ROI 2',\n",
        "       'original_glszm_LowGrayLevelZoneEmphasis ROI 3', 'original_glcm_Correlation ROI 1', 'original_glrlm_ShortRunEmphasis ROI 3',\n",
        "       'original_shape_SurfaceVolumeRatio ROI 1', 'original_firstorder_Skewness ROI 1', 'original_gldm_SmallDependenceEmphasis ROI 2',\n",
        "       'original_firstorder_Minimum ROI 3', 'original_glcm_ClusterShade ROI 3', 'original_gldm_DependenceEntropy ROI 2', 'original_glcm_InverseVariance ROI 3']"
      ],
      "metadata": {
        "id": "sMwTaVcdg8Tx"
      },
      "execution_count": null,
      "outputs": []
    },
    {
      "cell_type": "code",
      "source": [
        "hgg_clf = '/content/gdrive/My Drive/Brats 2018/MICCAI_BraTS_2018_Data_Training/HGG_testing_data.csv'\n",
        "lgg_clf = '/content/gdrive/My Drive/Brats 2018/MICCAI_BraTS_2018_Data_Training/LGG_testing_data.csv'"
      ],
      "metadata": {
        "id": "PlBXeyk9bQLP"
      },
      "execution_count": null,
      "outputs": []
    },
    {
      "cell_type": "code",
      "source": [
        "img_num = 5"
      ],
      "metadata": {
        "id": "YZ-Jr8kLbuJT"
      },
      "execution_count": null,
      "outputs": []
    },
    {
      "cell_type": "code",
      "source": [
        "clf_test_df = pd.read_csv(hgg_clf)\n",
        "clf_test_df.drop(columns= ['Unnamed: 0'], inplace= True )\n",
        "\n",
        "case_no = 'case_' + str(img_num)\n",
        "\n",
        "# Y = clf_test_df[clf_test_df['CASE']== case_no]['GRADE']\n",
        "\n",
        "temp_Y = clf_test_df.iloc[img_num-1]\n",
        "Y = temp_Y['GRADE']\n",
        "\n",
        "clf_test_df.drop(columns=['CASE', 'GRADE'], inplace=True)\n",
        "temp_X = clf_test_df[fet]\n",
        "X= temp_X.iloc[[img_num-1]]\n",
        "\n",
        "pred = my_model.predict(X)\n",
        "\n",
        "print(pred)\n",
        "print(Y)"
      ],
      "metadata": {
        "colab": {
          "base_uri": "https://localhost:8080/",
          "height": 796
        },
        "id": "Nh8-0sSGbcCx",
        "outputId": "263925e8-ba6e-461f-9644-3d0110abfb68"
      },
      "execution_count": null,
      "outputs": [
        {
          "output_type": "error",
          "ename": "ValueError",
          "evalue": "ignored",
          "traceback": [
            "\u001b[0;31m---------------------------------------------------------------------------\u001b[0m",
            "\u001b[0;31mValueError\u001b[0m                                Traceback (most recent call last)",
            "\u001b[0;32m<ipython-input-26-c1a2b11f0ab7>\u001b[0m in \u001b[0;36m<module>\u001b[0;34m()\u001b[0m\n\u001b[1;32m     16\u001b[0m \u001b[0mX\u001b[0m\u001b[0;34m=\u001b[0m \u001b[0mtemp_X\u001b[0m\u001b[0;34m.\u001b[0m\u001b[0miloc\u001b[0m\u001b[0;34m[\u001b[0m\u001b[0;34m[\u001b[0m\u001b[0mimg_num\u001b[0m\u001b[0;34m-\u001b[0m\u001b[0;36m1\u001b[0m\u001b[0;34m]\u001b[0m\u001b[0;34m]\u001b[0m\u001b[0;34m\u001b[0m\u001b[0;34m\u001b[0m\u001b[0m\n\u001b[1;32m     17\u001b[0m \u001b[0;34m\u001b[0m\u001b[0m\n\u001b[0;32m---> 18\u001b[0;31m \u001b[0mpred\u001b[0m \u001b[0;34m=\u001b[0m \u001b[0mmy_model\u001b[0m\u001b[0;34m.\u001b[0m\u001b[0mpredict\u001b[0m\u001b[0;34m(\u001b[0m\u001b[0mX\u001b[0m\u001b[0;34m)\u001b[0m\u001b[0;34m\u001b[0m\u001b[0;34m\u001b[0m\u001b[0m\n\u001b[0m\u001b[1;32m     19\u001b[0m \u001b[0;34m\u001b[0m\u001b[0m\n\u001b[1;32m     20\u001b[0m \u001b[0mprint\u001b[0m\u001b[0;34m(\u001b[0m\u001b[0mpred\u001b[0m\u001b[0;34m)\u001b[0m\u001b[0;34m\u001b[0m\u001b[0;34m\u001b[0m\u001b[0m\n",
            "\u001b[0;32m/usr/local/lib/python3.7/dist-packages/xgboost/sklearn.py\u001b[0m in \u001b[0;36mpredict\u001b[0;34m(self, data, output_margin, ntree_limit, validate_features)\u001b[0m\n\u001b[1;32m    789\u001b[0m                                                  \u001b[0moutput_margin\u001b[0m\u001b[0;34m=\u001b[0m\u001b[0moutput_margin\u001b[0m\u001b[0;34m,\u001b[0m\u001b[0;34m\u001b[0m\u001b[0;34m\u001b[0m\u001b[0m\n\u001b[1;32m    790\u001b[0m                                                  \u001b[0mntree_limit\u001b[0m\u001b[0;34m=\u001b[0m\u001b[0mntree_limit\u001b[0m\u001b[0;34m,\u001b[0m\u001b[0;34m\u001b[0m\u001b[0;34m\u001b[0m\u001b[0m\n\u001b[0;32m--> 791\u001b[0;31m                                                  validate_features=validate_features)\n\u001b[0m\u001b[1;32m    792\u001b[0m         \u001b[0;32mif\u001b[0m \u001b[0moutput_margin\u001b[0m\u001b[0;34m:\u001b[0m\u001b[0;34m\u001b[0m\u001b[0;34m\u001b[0m\u001b[0m\n\u001b[1;32m    793\u001b[0m             \u001b[0;31m# If output_margin is active, simply return the scores\u001b[0m\u001b[0;34m\u001b[0m\u001b[0;34m\u001b[0m\u001b[0;34m\u001b[0m\u001b[0m\n",
            "\u001b[0;32m/usr/local/lib/python3.7/dist-packages/xgboost/core.py\u001b[0m in \u001b[0;36mpredict\u001b[0;34m(self, data, output_margin, ntree_limit, pred_leaf, pred_contribs, approx_contribs, pred_interactions, validate_features)\u001b[0m\n\u001b[1;32m   1282\u001b[0m \u001b[0;34m\u001b[0m\u001b[0m\n\u001b[1;32m   1283\u001b[0m         \u001b[0;32mif\u001b[0m \u001b[0mvalidate_features\u001b[0m\u001b[0;34m:\u001b[0m\u001b[0;34m\u001b[0m\u001b[0;34m\u001b[0m\u001b[0m\n\u001b[0;32m-> 1284\u001b[0;31m             \u001b[0mself\u001b[0m\u001b[0;34m.\u001b[0m\u001b[0m_validate_features\u001b[0m\u001b[0;34m(\u001b[0m\u001b[0mdata\u001b[0m\u001b[0;34m)\u001b[0m\u001b[0;34m\u001b[0m\u001b[0;34m\u001b[0m\u001b[0m\n\u001b[0m\u001b[1;32m   1285\u001b[0m \u001b[0;34m\u001b[0m\u001b[0m\n\u001b[1;32m   1286\u001b[0m         \u001b[0mlength\u001b[0m \u001b[0;34m=\u001b[0m \u001b[0mc_bst_ulong\u001b[0m\u001b[0;34m(\u001b[0m\u001b[0;34m)\u001b[0m\u001b[0;34m\u001b[0m\u001b[0;34m\u001b[0m\u001b[0m\n",
            "\u001b[0;32m/usr/local/lib/python3.7/dist-packages/xgboost/core.py\u001b[0m in \u001b[0;36m_validate_features\u001b[0;34m(self, data)\u001b[0m\n\u001b[1;32m   1688\u001b[0m \u001b[0;34m\u001b[0m\u001b[0m\n\u001b[1;32m   1689\u001b[0m                 raise ValueError(msg.format(self.feature_names,\n\u001b[0;32m-> 1690\u001b[0;31m                                             data.feature_names))\n\u001b[0m\u001b[1;32m   1691\u001b[0m \u001b[0;34m\u001b[0m\u001b[0m\n\u001b[1;32m   1692\u001b[0m     \u001b[0;32mdef\u001b[0m \u001b[0mget_split_value_histogram\u001b[0m\u001b[0;34m(\u001b[0m\u001b[0mself\u001b[0m\u001b[0;34m,\u001b[0m \u001b[0mfeature\u001b[0m\u001b[0;34m,\u001b[0m \u001b[0mfmap\u001b[0m\u001b[0;34m=\u001b[0m\u001b[0;34m''\u001b[0m\u001b[0;34m,\u001b[0m \u001b[0mbins\u001b[0m\u001b[0;34m=\u001b[0m\u001b[0;32mNone\u001b[0m\u001b[0;34m,\u001b[0m \u001b[0mas_pandas\u001b[0m\u001b[0;34m=\u001b[0m\u001b[0;32mTrue\u001b[0m\u001b[0;34m)\u001b[0m\u001b[0;34m:\u001b[0m\u001b[0;34m\u001b[0m\u001b[0;34m\u001b[0m\u001b[0m\n",
            "\u001b[0;31mValueError\u001b[0m: feature_names mismatch: ['original_firstorder_Maximum ROI 1', 'original_firstorder_Range ROI 2', 'original_glszm_ZoneVariance ROI 1', 'original_glszm_SmallAreaEmphasis ROI 1', 'original_shape_MeshVolume ROI 2', 'original_shape_MinorAxisLength ROI 2', 'original_shape_Sphericity ROI 2', 'original_glrlm_RunEntropy ROI 1', 'original_glrlm_LongRunEmphasis ROI 1', 'original_glszm_LargeAreaHighGrayLevelEmphasis ROI 1', 'original_firstorder_Mean ROI 3', 'original_glszm_LowGrayLevelZoneEmphasis ROI 2', 'original_glcm_Imc2 ROI 1', 'original_gldm_DependenceNonUniformityNormalized ROI 3', 'original_glcm_MCC ROI 1', 'original_glszm_ZonePercentage ROI 1', 'original_firstorder_TotalEnergy ROI 3', 'original_firstorder_RootMeanSquared ROI 3', 'original_glrlm_RunLengthNonUniformity ROI 1', 'original_glszm_LargeAreaEmphasis ROI 2', 'original_shape_Maximum3DDiameter ROI 3', 'original_ngtdm_Coarseness ROI 3', 'original_shape_MinorAxisLength ROI 3', 'original_glrlm_ShortRunLowGrayLevelEmphasis ROI 2', 'original_shape_Maximum2DDiameterRow ROI 3', 'original_glszm_GrayLevelVariance ROI 2', 'original_ngtdm_Contrast ROI 2', 'original_glcm_DifferenceEntropy ROI 3', 'original_gldm_LargeDependenceHighGrayLevelEmphasis ROI 3', 'original_firstorder_Kurtosis ROI 3', 'original_glrlm_RunEntropy ROI 2', 'original_shape_Elongation ROI 2', 'original_shape_SurfaceVolumeRatio ROI 1', 'original_firstorder_Skewness ROI 1', 'original_gldm_SmallDependenceLowGrayLevelEmphasis ROI 2', 'original_...\nexpected original_glszm_ZoneEntropy ROI 2, original_firstorder_Range ROI 2, original_ngtdm_Coarseness ROI 3, original_glrlm_LongRunEmphasis ROI 1, original_firstorder_TotalEnergy ROI 3, original_firstorder_Range ROI 3, original_glszm_ZonePercentage ROI 1, original_gldm_SmallDependenceLowGrayLevelEmphasis ROI 2, original_glrlm_RunLengthNonUniformity ROI 1, original_glcm_DifferenceEntropy ROI 3, original_glcm_Autocorrelation ROI 3, original_firstorder_RootMeanSquared ROI 3, original_ngtdm_Contrast ROI 2, original_shape_MeshVolume ROI 2, original_firstorder_Mean ROI 3, original_glszm_HighGrayLevelZoneEmphasis ROI 2, original_glrlm_ShortRunHighGrayLevelEmphasis ROI 2, original_shape_Maximum2DDiameterRow ROI 3, original_shape_MinorAxisLength ROI 2, original_gldm_LargeDependenceHighGrayLevelEmphasis ROI 3, original_shape_Elongation ROI 2, original_glrlm_ShortRunEmphasis ROI 2, original_glrlm_RunEntropy ROI 1, original_glszm_LargeAreaEmphasis ROI 2, original_glszm_GrayLevelNonUniformity ROI 2, original_shape_Maximum3DDiameter ROI 3, original_glrlm_ShortRunLowGrayLevelEmphasis ROI 2, original_glszm_ZoneVariance ROI 1, original_glszm_SmallAreaEmphasis ROI 1, original_shape_Maximum2DDiameterSlice ROI 3, original_glszm_LowGrayLevelZoneEmphasis ROI 2 in input data\ntraining data did not have the following fields: original_firstorder_Minimum ROI 3, original_glcm_Idmn ROI 1, original_shape_MajorAxisLength ROI 3, original_gldm_DependenceNonUniformity ROI 2, original_glrlm_RunLengthNonUniformity ROI 2, original_glszm_SizeZoneNonUniformityNormalized ROI 1, original_glcm_Imc2 ROI 2, original_glcm_DifferenceAverage ROI 3, original_gldm_DependenceEntropy ROI 2, original_glszm_LargeAreaEmphasis ROI 1, original_firstorder_MeanAbsoluteDeviation ROI 3, original_glcm_Imc1 ROI 2, original_glrlm_RunLengthNonUniformity ROI 3, original_glcm_InverseVariance ROI 3, original_firstorder_Median ROI 2, original_shape_Flatness ROI 3, original_glszm_LowGrayLevelZoneEmphasis ROI 3, original_gldm_SmallDependenceEmphasis ROI 2, original_glcm_Correlation ROI 1, original_shape_Elongation ROI 1, original_glszm_GrayLevelVariance ROI 3, original_glrlm_LongRunEmphasis ROI 3, original_glrlm_RunEntropy ROI 3, original_firstorder_Kurtosis ROI 2, original_glszm_HighGrayLevelZoneEmphasis ROI 1, original_glszm_LargeAreaHighGrayLevelEmphasis ROI 2, original_ngtdm_Busyness ROI 1, original_glrlm_ShortRunEmphasis ROI 3, original_firstorder_Skewness ROI 2, original_glcm_InverseVariance ROI 2, original_glcm_ClusterShade ROI 3"
          ]
        }
      ]
    }
  ]
}