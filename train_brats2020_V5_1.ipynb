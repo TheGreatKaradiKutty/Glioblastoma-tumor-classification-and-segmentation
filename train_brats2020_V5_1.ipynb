{
  "nbformat": 4,
  "nbformat_minor": 0,
  "metadata": {
    "colab": {
      "provenance": [],
      "machine_shape": "hm"
    },
    "kernelspec": {
      "name": "python3",
      "display_name": "Python 3"
    },
    "language_info": {
      "name": "python"
    },
    "accelerator": "GPU"
  },
  "cells": [
    {
      "cell_type": "code",
      "source": [
        "!pip install segmentation_models_3D"
      ],
      "metadata": {
        "id": "-Vk0F24WuXij"
      },
      "execution_count": null,
      "outputs": []
    },
    {
      "cell_type": "code",
      "execution_count": null,
      "metadata": {
        "id": "DFx3KcgJn4b0"
      },
      "outputs": [],
      "source": [
        "import os\n",
        "import numpy as np\n",
        "#import custom_datagen\n",
        "import tensorflow\n",
        "#import keras\n",
        "from matplotlib import pyplot as plt\n",
        "import glob\n",
        "import random\n",
        "import segmentation_models_3D as sm\n",
        "from keras.metrics import MeanIoU\n",
        "from keras.models import load_model\n",
        "from matplotlib import pyplot as plt\n",
        "from keras.callbacks import BackupAndRestore, CSVLogger, ModelCheckpoint,LearningRateScheduler, ReduceLROnPlateau"
      ]
    },
    {
      "cell_type": "code",
      "source": [
        "from google.colab import drive\n",
        "drive.mount('/content/gdrive',force_remount=True)"
      ],
      "metadata": {
        "colab": {
          "base_uri": "https://localhost:8080/"
        },
        "id": "T_cqEOkfoind",
        "outputId": "524b2c5e-682d-4256-d0d6-58392919263a"
      },
      "execution_count": null,
      "outputs": [
        {
          "output_type": "stream",
          "name": "stdout",
          "text": [
            "Mounted at /content/gdrive\n"
          ]
        }
      ]
    },
    {
      "cell_type": "code",
      "source": [
        "my_drive = '/content/gdrive/My Drive/'\n",
        "import sys\n",
        "sys.path.append(my_drive)"
      ],
      "metadata": {
        "id": "KJB9FOgzpIP0"
      },
      "execution_count": null,
      "outputs": []
    },
    {
      "cell_type": "code",
      "source": [
        "from custom_datagen import imageLoader\n",
        "# from simple_3d_unet import simple_unet_model\n",
        "from 3d_unet_model import my_unet_model\n",
        "TEST_SAVE = '/content/gdrive/My Drive/PJ_BrainTumor_Dataset/BraTS2020_TrainingData/'"
      ],
      "metadata": {
        "id": "clE44RYl2HXJ"
      },
      "execution_count": null,
      "outputs": []
    },
    {
      "cell_type": "code",
      "source": [
        "train_img_dir = TEST_SAVE + \"input_data_128/train/images/\"\n",
        "train_mask_dir = TEST_SAVE + \"input_data_128/train/masks/\"\n",
        "\n",
        "img_list = os.listdir(train_img_dir)\n",
        "msk_list = os.listdir(train_mask_dir)\n",
        "\n",
        "num_images = len(os.listdir(train_img_dir))\n",
        "\n",
        "img_num = random.randint(0,num_images-1)\n",
        "test_img = np.load(train_img_dir+img_list[img_num])\n",
        "test_mask = np.load(train_mask_dir+msk_list[img_num])\n",
        "test_mask = np.argmax(test_mask, axis=3)\n",
        "\n",
        "n_slice=random.randint(0, test_mask.shape[2])\n",
        "# plt.figure(figsize=(12, 8))\n",
        "\n",
        "# plt.subplot(221)\n",
        "# plt.imshow(test_img[:,:,n_slice, 0], cmap='gray')\n",
        "# plt.title('Image flair')\n",
        "# plt.subplot(222)\n",
        "# plt.imshow(test_img[:,:,n_slice, 1], cmap='gray')\n",
        "# plt.title('Image t1ce')\n",
        "# plt.subplot(223)\n",
        "# plt.imshow(test_img[:,:,n_slice, 2], cmap='gray')\n",
        "# plt.title('Image t2')\n",
        "# plt.subplot(224)\n",
        "# plt.imshow(test_mask[:,:,n_slice])\n",
        "# plt.title('Mask')\n",
        "# plt.show()\n"
      ],
      "metadata": {
        "id": "Se0UxMF3qvKH"
      },
      "execution_count": null,
      "outputs": []
    },
    {
      "cell_type": "code",
      "source": [
        "#Optional step of finding the distribution of each class and calculating appropriate weights\n",
        "#Alternatively you can just assign equal weights and see how well the model performs: 0.25, 0.25, 0.25, 0.25\n",
        "\n",
        "# import pandas as pd\n",
        "# columns = ['0','1', '2', '3']\n",
        "# df = pd.DataFrame(columns=columns)\n",
        "# train_mask_list = sorted(glob.glob('BraTS2020_TrainingData/input_data_128/train/masks/*.npy'))\n",
        "# for img in range(len(train_mask_list)):\n",
        "#     print(img)\n",
        "#     temp_image=np.load(train_mask_list[img])\n",
        "#     temp_image = np.argmax(temp_image, axis=3)\n",
        "#     val, counts = np.unique(temp_image, return_counts=True)\n",
        "#     zipped = zip(columns, counts)\n",
        "#     conts_dict = dict(zipped)\n",
        "\n",
        "#     df = df.append(conts_dict, ignore_index=True)\n",
        "\n",
        "# label_0 = df['0'].sum()\n",
        "# label_1 = df['1'].sum()\n",
        "# label_2 = df['1'].sum()\n",
        "# label_3 = df['3'].sum()\n",
        "# total_labels = label_0 + label_1 + label_2 + label_3\n",
        "# n_classes = 4\n",
        "# #Class weights claculation: n_samples / (n_classes * n_samples_for_class)\n",
        "# wt0 = round((total_labels/(n_classes*label_0)), 2) #round to 2 decimals\n",
        "# wt1 = round((total_labels/(n_classes*label_1)), 2)\n",
        "# wt2 = round((total_labels/(n_classes*label_2)), 2)\n",
        "# wt3 = round((total_labels/(n_classes*label_3)), 2)\n",
        "\n",
        "#Weights are: 0.26, 22.53, 22.53, 26.21\n",
        "#wt0, wt1, wt2, wt3 = 0.26, 22.53, 22.53, 26.21\n",
        "#These weihts can be used for Dice loss"
      ],
      "metadata": {
        "id": "9ZKxBceWz8-T"
      },
      "execution_count": null,
      "outputs": []
    },
    {
      "cell_type": "code",
      "source": [
        "#Define the image generators for training and validation\n",
        "\n",
        "train_img_dir = TEST_SAVE + \"input_data_128/train/images/\"\n",
        "train_mask_dir = TEST_SAVE + \"input_data_128/train/masks/\"\n",
        "\n",
        "val_img_dir = TEST_SAVE + \"input_data_128/val/images/\"\n",
        "val_mask_dir = TEST_SAVE + \"input_data_128/val/masks/\"\n",
        "\n",
        "train_img_list=os.listdir(train_img_dir)\n",
        "train_mask_list = os.listdir(train_mask_dir)\n",
        "\n",
        "val_img_list=os.listdir(val_img_dir)\n",
        "val_mask_list = os.listdir(val_mask_dir)"
      ],
      "metadata": {
        "id": "ulv14xhYz_J1"
      },
      "execution_count": null,
      "outputs": []
    },
    {
      "cell_type": "code",
      "source": [
        "batch_size = 2\n",
        "\n",
        "train_img_datagen = imageLoader(train_img_dir, train_img_list,\n",
        "                                train_mask_dir, train_mask_list, batch_size)\n",
        "\n",
        "val_img_datagen = imageLoader(val_img_dir, val_img_list,\n",
        "                                val_mask_dir, val_mask_list, batch_size)\n",
        "\n",
        "#Verify generator.... In python 3 next() is renamed as __next__()\n",
        "img, msk = train_img_datagen.__next__()\n",
        "\n",
        "# img_num = random.randint(0,img.shape[0]-1)\n",
        "# test_img=img[img_num]\n",
        "# test_mask=msk[img_num]\n",
        "# test_mask=np.argmax(test_mask, axis=3)\n",
        "\n",
        "# n_slice=random.randint(0, test_mask.shape[2])\n",
        "# plt.figure(figsize=(12, 8))\n",
        "\n",
        "# plt.subplot(221)\n",
        "# plt.imshow(test_img[:,:,n_slice, 0], cmap='gray')\n",
        "# plt.title('Image flair')\n",
        "# plt.subplot(222)\n",
        "# plt.imshow(test_img[:,:,n_slice, 1], cmap='gray')\n",
        "# plt.title('Image t1ce')\n",
        "# plt.subplot(223)\n",
        "# plt.imshow(test_img[:,:,n_slice, 2], cmap='gray')\n",
        "# plt.title('Image t2')\n",
        "# plt.subplot(224)\n",
        "# plt.imshow(test_mask[:,:,n_slice])\n",
        "# plt.title('Mask')\n",
        "# plt.show()\n"
      ],
      "metadata": {
        "id": "Uk97xcQp0Wn-"
      },
      "execution_count": null,
      "outputs": []
    },
    {
      "cell_type": "code",
      "source": [
        "#Defining loss, metrics and optimizer to be used for training\n",
        "wt0, wt1, wt2, wt3 = 0.25,0.25,0.25,0.25\n",
        "# wt0, wt1, wt2, wt3 = 0.26, 22.53, 22.53, 26.21\n",
        "dice_loss = sm.losses.DiceLoss(class_weights=np.array([wt0, wt1, wt2, wt3]))\n",
        "focal_loss = sm.losses.CategoricalFocalLoss()\n",
        "total_loss = dice_loss + (1 * focal_loss)\n",
        "\n",
        "metrics = ['accuracy', sm.metrics.IOUScore(threshold=0.5)]\n",
        "\n",
        "#from keras.optimizers import Adam\n",
        "from keras.optimizers import adam_v2\n",
        "LR = 0.000003\n",
        "epochs = 100\n",
        "# optim = Adam(LR)\n",
        "\n",
        "optim = adam_v2.Adam(learning_rate=LR, decay=LR/epochs)\n"
      ],
      "metadata": {
        "id": "zm45TEdE0dxb"
      },
      "execution_count": null,
      "outputs": []
    },
    {
      "cell_type": "code",
      "source": [
        "steps_per_epoch = len(train_img_list)//batch_size\n",
        "val_steps_per_epoch = len(val_img_list)//batch_size\n",
        "\n",
        "\n",
        "#from  simple_3d_unet import simple_unet_model\n",
        "\n",
        "model = my_unet_model(IMG_HEIGHT=128,\n",
        "                          IMG_WIDTH=128,\n",
        "                          IMG_DEPTH=128,\n",
        "                          IMG_CHANNELS=3,\n",
        "                          num_classes=4)\n",
        "\n",
        "model.compile(optimizer = optim, loss=total_loss, metrics=metrics)\n",
        "print(model.summary())\n",
        "\n",
        "print(model.input_shape)\n",
        "print(model.output_shape)\n",
        "\n"
      ],
      "metadata": {
        "id": "a2YZobm-41cN"
      },
      "execution_count": null,
      "outputs": []
    },
    {
      "cell_type": "code",
      "source": [
        "epochs = 100\n",
        "\n",
        "decay_rate = LR / epochs\n",
        "\n",
        "def exp_decay(epoch):\n",
        "    lrate = LR * np.exp(-decay_rate*epoch)\n",
        "    return lrate\n",
        "\n",
        "filepath = TEST_SAVE + 'saved models/weights-improvement-{epoch:02d}-{val_iou_score:.2f}.hdf5'\n",
        "\n",
        "checkpoint = ModelCheckpoint(filepath, monitor= 'val_iou_score', verbose= 1, save_best_only_best= True, mode= 'max')\n",
        "log_csv = CSVLogger(TEST_SAVE + 'my_logs.csv', separator=',', append= True)\n",
        "backup_restore = BackupAndRestore(backup_dir= TEST_SAVE + \"saved models/backup_1\")\n",
        "lr_rate = LearningRateScheduler(exp_decay)\n",
        "\n",
        "callbacks_list = [checkpoint, log_csv, backup_restore, lr_rate]"
      ],
      "metadata": {
        "id": "WByJkmkQwSEj"
      },
      "execution_count": null,
      "outputs": []
    },
    {
      "cell_type": "code",
      "source": [
        "\n",
        "history=model.fit(train_img_datagen,\n",
        "          steps_per_epoch=steps_per_epoch,\n",
        "          epochs= epochs,\n",
        "          verbose=1,\n",
        "          validation_data=val_img_datagen,\n",
        "          validation_steps=val_steps_per_epoch,\n",
        "          callbacks= callbacks_list )\n",
        "\n",
        "model.save(TEST_SAVE + 'saved models/brats_3d_100_updated.hdf5')\n",
        "\n",
        "\n",
        "loss = history.history['loss']\n",
        "val_loss = history.history['val_loss']\n",
        "epochs = range(1, len(loss) + 1)\n",
        "plt.plot(epochs, loss, 'y', label='Training loss')\n",
        "plt.plot(epochs, val_loss, 'r', label='Validation loss')\n",
        "plt.title('Training and validation loss to 200 epochs straight')\n",
        "plt.xlabel('Epochs')\n",
        "plt.ylabel('Loss')\n",
        "plt.legend()\n",
        "plt.show()\n",
        "\n",
        "acc = history.history['accuracy']\n",
        "val_acc = history.history['val_accuracy']\n",
        "\n",
        "plt.plot(epochs, acc, 'y', label='Training accuracy')\n",
        "plt.plot(epochs, val_acc, 'r', label='Validation accuracy')\n",
        "plt.title('Training and validation accuracyto 200 epochs straight')\n",
        "plt.xlabel('Epochs')\n",
        "plt.ylabel('Accuracy')\n",
        "plt.legend()\n",
        "plt.show()\n",
        "\n",
        "iou = history.history['iou_score']\n",
        "val_iou = history.history['val_iou_score']\n",
        "\n",
        "plt.plot(epochs, iou, 'y', label='Training IoU Score')\n",
        "plt.plot(epochs, val_iou, 'r', label='Validation IoU Score')\n",
        "plt.title('Training and validation IoU Score to 200 epochs straight')\n",
        "plt.xlabel('Epochs')\n",
        "plt.ylabel('IoU Score')\n",
        "plt.legend()\n",
        "plt.show()"
      ],
      "metadata": {
        "id": "qafOoWXw5b__"
      },
      "execution_count": null,
      "outputs": []
    },
    {
      "cell_type": "code",
      "source": [
        "my_model = load_model(TEST_SAVE + 'saved models/brats_3d_100_updated.hdf5',\n",
        "                      custom_objects={'dice_loss_plus_1focal_loss': total_loss,\n",
        "                                      'iou_score':sm.metrics.IOUScore(threshold=0.5)})\n",
        "\n",
        "\n",
        "history2=my_model.fit(train_img_datagen,\n",
        "          steps_per_epoch=steps_per_epoch,\n",
        "          epochs=1,\n",
        "          verbose=1,\n",
        "          validation_data=val_img_datagen,\n",
        "          validation_steps=val_steps_per_epoch,\n",
        "          )\n",
        "\n",
        "\n",
        "# my_model.save(TEST_SAVE + 'saved models/brats_3d_200.hdf5')\n",
        "\n",
        "loss = history2.history['loss']\n",
        "val_loss = history2.history['val_loss']\n",
        "epochs = range(1, len(loss) + 1)\n",
        "plt.plot(epochs, loss, 'y', label='Training loss')\n",
        "plt.plot(epochs, val_loss, 'r', label='Validation loss')\n",
        "plt.title('Training and validation loss for 100 Epochs')\n",
        "plt.xlabel('Epochs')\n",
        "plt.ylabel('Loss')\n",
        "plt.legend()\n",
        "plt.show()\n",
        "\n",
        "acc = history2.history['accuracy']\n",
        "val_acc = history2.history['val_accuracy']\n",
        "\n",
        "plt.plot(epochs, acc, 'y', label='Training accuracy')\n",
        "plt.plot(epochs, val_acc, 'r', label='Validation accuracy')\n",
        "plt.title('Training and validation accuracy for 100 Epochs')\n",
        "plt.xlabel('Epochs')\n",
        "plt.ylabel('Accuracy')\n",
        "plt.legend()\n",
        "plt.show()\n",
        "\n",
        "iou = history2.history['iou_score']\n",
        "val_iou = history2.history['val_iou_score']\n",
        "\n",
        "plt.plot(epochs, iou, 'y', label='Training IoU Score')\n",
        "plt.plot(epochs, val_iou, 'r', label='Validation IoU Score')\n",
        "plt.title('Training and validation IoU Score for 100 Epochs')\n",
        "plt.xlabel('Epochs')\n",
        "plt.ylabel('IoU Score')\n",
        "plt.legend()\n",
        "plt.show()"
      ],
      "metadata": {
        "id": "cG9luo6FtYAE",
        "colab": {
          "base_uri": "https://localhost:8080/",
          "height": 888
        },
        "outputId": "5015b8b6-9633-4690-85d6-ff4c8057d0b9"
      },
      "execution_count": null,
      "outputs": [
        {
          "output_type": "stream",
          "name": "stdout",
          "text": [
            "129/129 [==============================] - 404s 3s/step - loss: 0.7772 - accuracy: 0.9926 - iou_score: 0.8355 - val_loss: 0.8176 - val_accuracy: 0.9801 - val_iou_score: 0.6637\n"
          ]
        },
        {
          "output_type": "display_data",
          "data": {
            "text/plain": [
              "<Figure size 432x288 with 1 Axes>"
            ],
            "image/png": "[encoded data removed]"
          },
          "metadata": {
            "needs_background": "light"
          }
        },
        {
          "output_type": "display_data",
          "data": {
            "text/plain": [
              "<Figure size 432x288 with 1 Axes>"
            ],
            "image/png": "[encoded data removed]"
          },
          "metadata": {
            "needs_background": "light"
          }
        },
        {
          "output_type": "display_data",
          "data": {
            "text/plain": [
              "<Figure size 432x288 with 1 Axes>"
            ],
            "image/png": "[encoded data removed]"
          },
          "metadata": {
            "needs_background": "light"
          }
        }
      ]
    },
    {
      "cell_type": "code",
      "source": [
        "# my_model = load_model(TEST_SAVE + 'saved models/brats_3d_150.hdf5',\n",
        "#                       custom_objects={'dice_loss_plus_1focal_loss': total_loss,\n",
        "#                                       'iou_score':sm.metrics.IOUScore(threshold=0.5)},\n",
        "#                       compile=True)\n",
        "\n",
        "\n",
        "# history2=my_model.fit(train_img_datagen,\n",
        "#           steps_per_epoch=steps_per_epoch,\n",
        "#           epochs=50,\n",
        "#           verbose=1,\n",
        "#           validation_data=val_img_datagen,\n",
        "#           validation_steps=val_steps_per_epoch,\n",
        "#           )\n",
        "\n",
        "\n",
        "# my_model.save(TEST_SAVE + 'saved models/brats_3d_200.hdf5')\n",
        "\n",
        "# loss = history2.history['loss']\n",
        "# val_loss = history2.history['val_loss']\n",
        "# epochs = range(1, len(loss) + 1)\n",
        "# plt.plot(epochs, loss, 'y', label='Training loss')\n",
        "# plt.plot(epochs, val_loss, 'r', label='Validation loss')\n",
        "# plt.title('Training and validation loss for 200 Epochs')\n",
        "# plt.xlabel('Epochs')\n",
        "# plt.ylabel('Loss')\n",
        "# plt.legend()\n",
        "# plt.show()\n",
        "\n",
        "# acc = history2.history['accuracy']\n",
        "# val_acc = history2.history['val_accuracy']\n",
        "\n",
        "# plt.plot(epochs, acc, 'y', label='Training accuracy')\n",
        "# plt.plot(epochs, val_acc, 'r', label='Validation accuracy')\n",
        "# plt.title('Training and validation accuracy for 200 Epochs')\n",
        "# plt.xlabel('Epochs')\n",
        "# plt.ylabel('Accuracy')\n",
        "# plt.legend()\n",
        "# plt.show()\n",
        "\n",
        "# iou = history2.history['iou_score']\n",
        "# val_iou = history2.history['val_iou_score']\n",
        "\n",
        "# plt.plot(epochs, iou, 'y', label='Training IoU Score')\n",
        "# plt.plot(epochs, val_iou, 'r', label='Validation IoU Score')\n",
        "# plt.title('Training and validation IoU Score for 200 Epochs')\n",
        "# plt.xlabel('Epochs')\n",
        "# plt.ylabel('IoU Score')\n",
        "# plt.legend()\n",
        "# plt.show()\n"
      ],
      "metadata": {
        "id": "jqDqxkoxNTj1"
      },
      "execution_count": null,
      "outputs": []
    },
    {
      "cell_type": "code",
      "source": [
        "my_model = load_model(TEST_SAVE + 'saved models/brats_3d_100_updated.hdf5',\n",
        "                      compile=False)\n",
        "\n",
        "batch_size=8 #Check IoU for a batch of images\n",
        "test_img_datagen = imageLoader(val_img_dir, val_img_list,\n",
        "                                val_mask_dir, val_mask_list, batch_size)\n",
        "\n",
        "#Verify generator.... In python 3 next() is renamed as __next__()\n",
        "test_image_batch, test_mask_batch = test_img_datagen.__next__()\n",
        "\n",
        "test_mask_batch_argmax = np.argmax(test_mask_batch, axis=4)\n",
        "test_pred_batch = my_model.predict(test_image_batch)\n",
        "test_pred_batch_argmax = np.argmax(test_pred_batch, axis=4)\n",
        "\n",
        "n_classes = 4\n",
        "IOU_keras = MeanIoU(num_classes=n_classes)\n",
        "IOU_keras.update_state(test_pred_batch_argmax, test_mask_batch_argmax)\n",
        "print(\"Mean IoU =\", IOU_keras.result().numpy())"
      ],
      "metadata": {
        "id": "O40tyHQLS8Yq",
        "colab": {
          "base_uri": "https://localhost:8080/"
        },
        "outputId": "e617ec45-9fe2-484e-ee20-4feab370dbcc"
      },
      "execution_count": null,
      "outputs": [
        {
          "output_type": "stream",
          "name": "stdout",
          "text": [
            "Mean IoU = 0.69678193\n"
          ]
        }
      ]
    },
    {
      "cell_type": "code",
      "source": [
        "img_num = 359\n",
        "\n",
        "test_img = np.load(TEST_SAVE + \"input_data_128/val/images/image_\"+str(img_num)+\".npy\")\n",
        "\n",
        "test_mask = np.load(TEST_SAVE + \"input_data_128/val/masks/mask_\"+str(img_num)+\".npy\")\n",
        "test_mask_argmax=np.argmax(test_mask, axis=3)\n",
        "\n",
        "test_img_input = np.expand_dims(test_img, axis=0)\n",
        "test_prediction = my_model.predict(test_img_input)\n",
        "test_prediction_argmax=np.argmax(test_prediction, axis=4)[0,:,:,:]\n",
        "\n",
        "\n",
        "# print(test_prediction_argmax.shape)\n",
        "# print(test_mask_argmax.shape)\n",
        "# print(np.unique(test_prediction_argmax))\n",
        "\n",
        "\n",
        "#Plot individual slices from test predictions for verification\n",
        "from matplotlib import pyplot as plt\n",
        "import random\n",
        "\n",
        "#n_slice=random.randint(0, test_prediction_argmax.shape[2])\n",
        "n_slice = 55\n",
        "plt.figure(figsize=(12, 8))\n",
        "plt.subplot(231)\n",
        "plt.title('Testing Image')\n",
        "plt.imshow(test_img[:,:,n_slice,1], cmap='gray')\n",
        "plt.subplot(232)\n",
        "plt.title('Testing Label')\n",
        "plt.imshow(test_mask_argmax[:,:,n_slice])\n",
        "plt.subplot(233)\n",
        "plt.title('Prediction on test image')\n",
        "plt.imshow(test_prediction_argmax[:,:, n_slice])\n",
        "plt.show()"
      ],
      "metadata": {
        "id": "TQcGtpy8UYjF",
        "colab": {
          "base_uri": "https://localhost:8080/",
          "height": 261
        },
        "outputId": "0e6b696b-ac0b-46e6-d127-e4e9f518f540"
      },
      "execution_count": null,
      "outputs": [
        {
          "output_type": "display_data",
          "data": {
            "text/plain": [
              "<Figure size 864x576 with 3 Axes>"
            ],
            "image/png": "[encoded data removed]"
          },
          "metadata": {
            "needs_background": "light"
          }
        }
      ]
    }
  ]
}