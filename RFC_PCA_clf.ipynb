{
  "nbformat": 4,
  "nbformat_minor": 0,
  "metadata": {
    "colab": {
      "provenance": []
    },
    "kernelspec": {
      "name": "python3",
      "display_name": "Python 3"
    },
    "language_info": {
      "name": "python"
    }
  },
  "cells": [
    {
      "cell_type": "code",
      "execution_count": null,
      "metadata": {
        "id": "U4btolp0uVCo"
      },
      "outputs": [],
      "source": [
        "import io\n",
        "import pandas as pd\n",
        "import matplotlib.pyplot as plt\n",
        "import numpy as np\n",
        "import os\n",
        "from sklearn.metrics import precision_score\n",
        "from sklearn.metrics import recall_score\n",
        "from sklearn.metrics import roc_curve\n",
        "from sklearn.metrics import roc_auc_score\n",
        "from sklearn.model_selection import StratifiedKFold\n",
        "from sklearn.ensemble import RandomForestClassifier\n",
        "from sklearn.metrics import accuracy_score\n",
        "from sklearn.metrics import f1_score\n",
        "from sklearn.pipeline import make_pipeline\n",
        "import statistics\n",
        "from sklearn.metrics import confusion_matrix"
      ]
    },
    {
      "cell_type": "code",
      "source": [
        "from google.colab import drive\n",
        "drive.mount('/content/gdrive',force_remount=True)\n",
        "\n",
        "my_drive = '/content/gdrive/My Drive/'\n",
        "import sys\n",
        "sys.path.append(my_drive)"
      ],
      "metadata": {
        "id": "_S4l2oeouoXn"
      },
      "execution_count": null,
      "outputs": []
    },
    {
      "cell_type": "code",
      "source": [
        "data_dir = '/content/gdrive/My Drive/Brats 2018/MICCAI_BraTS_2018_Data_Training/'\n",
        "hgg1=pd.read_csv(data_dir + \"HGG_data.csv\")\n",
        "hgg1= hgg1.drop('Unnamed: 0', axis= 1)#Path to csv\n",
        "\n",
        "lgg1=pd.read_csv(data_dir + \"LGG_data.csv\")\n",
        "lgg1= lgg1.drop('Unnamed: 0', axis= 1)"
      ],
      "metadata": {
        "id": "4vEAESTtudp4"
      },
      "execution_count": null,
      "outputs": []
    },
    {
      "cell_type": "code",
      "source": [
        "len(lgg1.iloc[3])"
      ],
      "metadata": {
        "colab": {
          "base_uri": "https://localhost:8080/"
        },
        "id": "8Bylts_D0NgZ",
        "outputId": "78e4e1f9-b723-42a9-dd1e-e8b814ade5f4"
      },
      "execution_count": null,
      "outputs": [
        {
          "output_type": "execute_result",
          "data": {
            "text/plain": [
              "322"
            ]
          },
          "metadata": {},
          "execution_count": 64
        }
      ]
    },
    {
      "cell_type": "code",
      "source": [
        "lgg1[\"GRADE\"]=0\n",
        "hgg1[\"GRADE\"]=1\n",
        "hgg= hgg1.sample(frac=1, random_state=42).reset_index(drop=True)\n",
        "lgg= lgg1.sample(frac=1, random_state=42).reset_index(drop=True)\n",
        "\n",
        "from sklearn.decomposition import PCA\n",
        "\n",
        "auc_lr=[]\n",
        "pre_lr=[]\n",
        "rec_lr=[]\n",
        "acc_lr=[]\n",
        "f1_lr=[]\n",
        "auc_lrt=[]\n",
        "pre_lrt=[]\n",
        "rec_lrt=[]\n",
        "acc_lrt=[]\n",
        "f1_lrt=[]"
      ],
      "metadata": {
        "id": "iUFx46Ab0HRF"
      },
      "execution_count": null,
      "outputs": []
    },
    {
      "cell_type": "code",
      "source": [
        "len(lgg.iloc[3])"
      ],
      "metadata": {
        "id": "X5875i964tnJ"
      },
      "execution_count": null,
      "outputs": []
    },
    {
      "cell_type": "code",
      "source": [
        "master=pd.concat([lgg, hgg])\n",
        "master= master.sample(frac=1, random_state=42).reset_index(drop=True)\n",
        "Y=master[\"GRADE\"]\n",
        "master= master.drop(\"GRADE\", axis=1)\n",
        "master = (master - master.min()) / (master.max() - master.min())"
      ],
      "metadata": {
        "id": "CARyB7PIu6Ug"
      },
      "execution_count": null,
      "outputs": []
    },
    {
      "cell_type": "code",
      "source": [
        "len(master.iloc[3])"
      ],
      "metadata": {
        "colab": {
          "base_uri": "https://localhost:8080/"
        },
        "id": "MmOq0LDP4z9c",
        "outputId": "5a4c8e9e-b121-4d4c-b603-72f94c224f26"
      },
      "execution_count": null,
      "outputs": [
        {
          "output_type": "execute_result",
          "data": {
            "text/plain": [
              "321"
            ]
          },
          "metadata": {},
          "execution_count": 67
        }
      ]
    },
    {
      "cell_type": "code",
      "source": [
        "# master.sample(frac=1, random_state=42).reset_index(drop=True)\n",
        "lgg"
      ],
      "metadata": {
        "id": "mbS2OfvdwMvx"
      },
      "execution_count": null,
      "outputs": []
    },
    {
      "cell_type": "code",
      "source": [
        "cv = StratifiedKFold(n_splits=5, random_state=42, shuffle=True)\n",
        "\n",
        "y_test = []\n",
        "y_pred= []\n",
        "\n",
        "clf = make_pipeline( PCA(.85), RandomForestClassifier(random_state=0, n_estimators=1000, criterion='gini', max_features=\"auto\", min_samples_split=2, min_samples_leaf=1))\n",
        "for train_index, test_index in cv.split(master, Y):\n",
        "    #print(\"Train Index: \", train_index, \"\\n\")\n",
        "    #print(\"Test Index: \", test_index)\n",
        "\n",
        "    X_train, X_test = master.iloc[train_index], master.iloc[test_index]\n",
        "    Y_train, Y_test= Y.iloc[train_index], Y.iloc[test_index]\n",
        "\n",
        "    X_train= X_train.values\n",
        "    X_test= X_test.values\n",
        "    Y_train= Y_train.values\n",
        "    Y_test= Y_test.values\n",
        "\n",
        "    print(X_test)\n",
        "\n",
        "    print(Y_test)\n",
        "\n",
        "    clf = make_pipeline( PCA(.85), RandomForestClassifier(random_state=0, n_estimators=1000, criterion='gini', max_features=\"auto\", min_samples_split=2, min_samples_leaf=1))\n",
        "\n",
        "    clf.fit(X_train, Y_train)\n",
        "    pred = clf.predict(X_test)\n",
        "    pre_l = precision_score(Y_test, pred)\n",
        "    rec_l = recall_score(Y_test, pred)\n",
        "    acc_l = accuracy_score(Y_test, pred)\n",
        "    probs = clf.predict_proba(X_test)\n",
        "    probs = probs[:, 1]\n",
        "    auc_l = roc_auc_score(Y_test, probs)\n",
        "    f1_l=f1_score(Y_test, pred)\n",
        "\n",
        "    pred = clf.predict(X_train)\n",
        "    pre_lt = precision_score(Y_train, pred)\n",
        "    rec_lt = recall_score(Y_train, pred)\n",
        "    acc_lt = accuracy_score(Y_train, pred)\n",
        "    probs = clf.predict_proba(X_train)\n",
        "    probs = probs[:, 1]\n",
        "    auc_lt = roc_auc_score(Y_train, probs)\n",
        "    f1_lt = f1_score(Y_train, pred)\n",
        "\n",
        "    y_test.append(Y_train)\n",
        "    y_pred.append(pred)\n",
        "\n",
        "    auc_lr.append(auc_l)\n",
        "    pre_lr.append(pre_l)\n",
        "    rec_lr.append(rec_l)\n",
        "    acc_lr.append(acc_l)\n",
        "    f1_lr.append(f1_l)\n",
        "\n",
        "    auc_lrt.append(auc_lt)\n",
        "    pre_lrt.append(pre_lt)\n",
        "    rec_lrt.append(rec_lt)\n",
        "    acc_lrt.append(acc_lt)\n",
        "    f1_lrt.append(f1_lt)\n",
        "\n",
        "\n",
        "data = { \"phase\":[\"Testing\", \"Training\"],\n",
        "          \"Precision\" : [statistics.mean(pre_lr), statistics.mean(pre_lrt)],\n",
        "          \"Recall\" : [statistics.mean(rec_lr), statistics.mean(rec_lrt)],\n",
        "          \"Accuracy\" : [statistics.mean(acc_lr), statistics.mean(acc_lrt)],\n",
        "          \"AUC\" : [statistics.mean(auc_lr), statistics.mean(auc_lrt)],\n",
        "          \"F1 Score\" : [statistics.mean(f1_lr), statistics.mean(f1_lrt)]\n",
        "        }\n",
        "\n",
        "\n",
        "print(\"TRAIN:\")\n",
        "print(\"PRE:\", statistics.mean(pre_lrt))\n",
        "print(\"REC:\", statistics.mean(rec_lrt))\n",
        "# print(\"SPE:\", statistics.mean(spe_lrt))\n",
        "# print(\"MCC:\", statistics.mean(mcc_lrt))\n",
        "# print(\"SEN:\", statistics.mean(sen_lrt))\n",
        "print(\"ACC:\", statistics.mean(acc_lrt))\n",
        "print(\"AUC:\", statistics.mean(auc_lrt))\n",
        "print(\"F1:\", statistics.mean(f1_lrt))\n",
        "\n",
        "print(\"TEST:\")\n",
        "print(\"PRE:\", statistics.mean(pre_lr))\n",
        "print(\"REC:\", statistics.mean(rec_lr))\n",
        "# print(\"SPE:\", statistics.mean(spe_lr))\n",
        "# print(\"MCC:\", statistics.mean(mcc_lr))\n",
        "# print(\"SEN:\", statistics.mean(sen_lr))\n",
        "print(\"ACC:\", statistics.mean(acc_lr))\n",
        "print(\"AUC:\", statistics.mean(auc_lr))\n",
        "print(\"F1:\", statistics.mean(f1_lr))\n",
        "\n",
        "\n"
      ],
      "metadata": {
        "colab": {
          "base_uri": "https://localhost:8080/"
        },
        "id": "kYB6IzLYvZ_Y",
        "outputId": "91b4e7e7-9959-478a-8568-9439b14f7b77"
      },
      "execution_count": null,
      "outputs": [
        {
          "output_type": "stream",
          "name": "stdout",
          "text": [
            "[[0.43011592 0.48260294 0.39973834 ... 0.28217745 0.095428   0.00760439]\n",
            " [0.36065668 0.4943839  0.28508608 ... 0.60960878 0.1356699  0.06032308]\n",
            " [0.38846019 0.31566728 0.19632501 ... 0.36245863 0.30158329 0.09124867]\n",
            " ...\n",
            " [0.63647404 0.43396237 0.36661968 ... 0.04869622 0.0705269  0.01053641]\n",
            " [0.60276238 0.66403446 0.35915093 ... 0.09025699 0.24702836 0.0076482 ]\n",
            " [0.56140638 0.55651276 0.52023319 ... 0.41914328 0.03938895 0.00830092]]\n",
            "[0 1 1 0 1 1 0 1 1 1 0 1 0 0 1 1 1 1 1 1 1 1 0 1 1 1 1 1 1 1 1 0 0 1 0 0 1\n",
            " 1 1 1 1 1 0 1 1 1 1 0 1 1 1 0 1 1 1 1 0]\n",
            "[[0.49242178 0.56738808 0.17635395 ... 0.26004431 0.11604203 0.06034493]\n",
            " [0.60521725 0.63547773 0.20998006 ... 0.28488119 0.50761254 0.14568747]\n",
            " [0.36091899 0.53542183 0.48176468 ... 0.10963546 0.13144499 0.00542569]\n",
            " ...\n",
            " [0.43377543 0.40417774 0.10262727 ... 0.2441682  0.1545563  0.03044177]\n",
            " [0.44857228 0.52877735 0.40033239 ... 0.11378449 0.12639786 0.02161833]\n",
            " [0.40077167 0.56551923 0.32725087 ... 0.13463324 0.14989279 0.00859925]]\n",
            "[1 0 0 1 1 1 1 1 1 1 1 1 1 1 0 1 0 1 1 1 1 1 1 1 1 1 1 0 0 1 1 1 1 0 1 1 1\n",
            " 1 0 0 1 0 0 1 1 0 1 0 1 0 1 0 1 1 1 1 1]\n",
            "[[0.78320545 0.53970247 0.30787384 ... 0.56661153 0.19336314 0.01738012]\n",
            " [0.560867   0.75903436 0.53704259 ... 0.70221756 0.28663497 0.07838289]\n",
            " [0.58843174 0.70573273 0.46214676 ... 0.36697125 0.16617627 0.04068874]\n",
            " ...\n",
            " [0.52600101 0.58676211 0.53475482 ... 0.9803785  0.24901222 0.0322853 ]\n",
            " [0.38961632 0.54289328 0.36273651 ... 0.01808482 0.0030062  0.16088362]\n",
            " [0.68284705 0.97921229 0.18486657 ... 0.07877406 0.21378121 0.02991423]]\n",
            "[1 1 1 1 0 1 1 0 1 1 1 1 0 1 0 0 1 0 1 1 1 1 1 0 1 0 1 1 1 1 1 0 1 1 1 1 0\n",
            " 1 1 0 1 1 0 1 1 1 0 1 1 1 0 0 1 1 1 1 1]\n",
            "[[0.63118169 0.66350975 0.29126863 ... 0.15017264 0.17982932 0.00500693]\n",
            " [0.78697035 0.69272137 0.45971815 ... 0.31070271 0.18553738 0.02427393]\n",
            " [0.47334207 0.37444773 0.49249986 ... 0.39347795 0.13045021 0.04684474]\n",
            " ...\n",
            " [0.65032404 0.63220926 0.27585355 ... 0.55240125 0.17255266 0.17237237]\n",
            " [0.46007727 0.37932407 0.30819577 ... 0.4844023  0.10140464 0.02977734]\n",
            " [0.42933023 0.38676163 0.21612809 ... 0.09416628 0.06718829 0.00295995]]\n",
            "[1 1 1 1 1 1 0 1 0 1 1 1 1 0 1 0 1 1 0 1 1 1 1 0 1 0 1 0 1 0 1 1 1 0 1 1 1\n",
            " 0 0 1 1 0 1 1 1 1 1 1 0 1 1 1 1 1 1 0]\n",
            "[[0.40685425 0.52883163 0.11344578 ... 0.80630562 0.69462087 0.19576482]\n",
            " [0.42884307 0.58666892 0.22555761 ... 0.8614581  0.1864877  0.05968584]\n",
            " [0.63854046 0.5011927  0.39670525 ... 0.58899794 0.24687616 0.04842218]\n",
            " ...\n",
            " [0.47205268 0.59775063 0.34867659 ... 0.28177317 0.21572835 0.14774258]\n",
            " [0.37000923 0.4432957  0.45636281 ... 0.19250475 0.05743632 0.00316869]\n",
            " [0.53349005 0.59117596 0.33297782 ... 0.64532052 0.17978706 0.09181998]]\n",
            "[1 0 1 0 0 1 1 0 1 1 1 1 1 1 1 0 1 1 1 1 1 1 1 1 1 1 1 1 1 1 1 1 0 1 1 0 1\n",
            " 1 1 1 1 1 0 0 1 0 0 1 0 1 1 1 0 0 1 1]\n",
            "TRAIN:\n",
            "PRE: 1.0\n",
            "REC: 1.0\n",
            "ACC: 1.0\n",
            "AUC: 1.0\n",
            "F1: 1.0\n",
            "TEST:\n",
            "PRE: 0.9138961038961039\n",
            "REC: 0.9617886178861789\n",
            "ACC: 0.9045112781954887\n",
            "AUC: 0.929796471434102\n",
            "F1: 0.937010730515141\n"
          ]
        }
      ]
    },
    {
      "cell_type": "code",
      "source": [
        "len(y_test[4])"
      ],
      "metadata": {
        "colab": {
          "base_uri": "https://localhost:8080/"
        },
        "id": "IriWGTTkBIUg",
        "outputId": "26b30c22-5c83-43f3-ef3f-1c19f61ae442"
      },
      "execution_count": null,
      "outputs": [
        {
          "output_type": "execute_result",
          "data": {
            "text/plain": [
              "227"
            ]
          },
          "metadata": {},
          "execution_count": 18
        }
      ]
    },
    {
      "cell_type": "code",
      "source": [
        "cf_matrix = confusion_matrix(y_test[4], y_pred[4])"
      ],
      "metadata": {
        "id": "svL-cudgA8nP"
      },
      "execution_count": null,
      "outputs": []
    },
    {
      "cell_type": "code",
      "source": [
        "import seaborn as sns\n",
        "\n",
        "ax = sns.heatmap(cf_matrix, annot=True, cmap='Blues')\n",
        "\n",
        "ax.set_title('Seaborn Confusion Matrix with labels\\n\\n');\n",
        "ax.set_xlabel('\\nPredicted Values')\n",
        "ax.set_ylabel('Actual Values ');\n",
        "\n",
        "## Ticket labels - List must be in alphabetical order\n",
        "ax.xaxis.set_ticklabels(['False','True'])\n",
        "ax.yaxis.set_ticklabels(['False','True'])\n",
        "\n",
        "## Display the visualization of the Confusion Matrix.\n",
        "plt.show()"
      ],
      "metadata": {
        "colab": {
          "base_uri": "https://localhost:8080/",
          "height": 337
        },
        "id": "HmeenHOlCkDR",
        "outputId": "3e4a6f27-1ae0-4b9a-8d32-09aa7f54ffcc"
      },
      "execution_count": null,
      "outputs": [
        {
          "output_type": "display_data",
          "data": {
            "text/plain": [
              "<Figure size 432x288 with 2 Axes>"
            ],
            "image/png": "[encoded data removed]"
          },
          "metadata": {
            "needs_background": "light"
          }
        }
      ]
    },
    {
      "cell_type": "code",
      "source": [
        "metrics = pd.DataFrame.from_dict(data)\n",
        "metrics.to_csv(\"/content/gdrive/My Drive/Brats 2018/MICCAI_BraTS_2018_Data_Training/RF_PCA_metrics.csv\")"
      ],
      "metadata": {
        "id": "bu8WWMqrThC-"
      },
      "execution_count": null,
      "outputs": []
    },
    {
      "cell_type": "code",
      "source": [
        "import pickle\n",
        "import joblib"
      ],
      "metadata": {
        "id": "0WR2MYWv-adq"
      },
      "execution_count": null,
      "outputs": []
    },
    {
      "cell_type": "code",
      "source": [
        "joblib.dump(clf, data_dir + 'RFC_PCA_model_01.pkl')"
      ],
      "metadata": {
        "colab": {
          "base_uri": "https://localhost:8080/"
        },
        "id": "QPe0lD_n-PuX",
        "outputId": "82729920-0e9c-499a-b35a-2c2916343673"
      },
      "execution_count": null,
      "outputs": [
        {
          "output_type": "execute_result",
          "data": {
            "text/plain": [
              "['/content/gdrive/My Drive/Brats 2018/MICCAI_BraTS_2018_Data_Training/RFC_PCA_model_01.pkl']"
            ]
          },
          "metadata": {},
          "execution_count": 106
        }
      ]
    },
    {
      "cell_type": "code",
      "source": [
        "norm_hgg = (hgg - hgg.min()) / (hgg.max() - hgg.min())\n",
        "for i in range(len(norm_hgg)):\n",
        "  X_master=norm_hgg.iloc[i].to_numpy()\n",
        "  X_master = np.reshape(X_master,(1, X_master.size))\n",
        "  print(clf.predict(X_master))\n"
      ],
      "metadata": {
        "id": "OySZRFunwCum"
      },
      "execution_count": null,
      "outputs": []
    },
    {
      "cell_type": "code",
      "source": [
        "norm_lgg = (lgg - lgg.min()) / (lgg.max() - lgg.min())\n",
        "\n",
        "for i in range(len(norm_lgg)):\n",
        "  X_master=norm_lgg.iloc[i].to_numpy()\n",
        "  X_master = np.reshape(X_master,(1, X_master.size))\n",
        "  print(clf.predict(X_master))"
      ],
      "metadata": {
        "id": "FPeZYX1E8d3Q"
      },
      "execution_count": null,
      "outputs": []
    },
    {
      "cell_type": "code",
      "source": [
        "dir= '/content/gdrive/My Drive/Brats 2019/CLF_testing_data.csv'"
      ],
      "metadata": {
        "id": "9y6cdFw1_J6a"
      },
      "execution_count": null,
      "outputs": []
    },
    {
      "cell_type": "code",
      "source": [
        "tester = pd.read_csv(dir)\n",
        "t1 = tester.drop(\"Unnamed: 0\", axis=1)\n",
        "t1 = t1.drop(\"GRADE\", axis=1)\n",
        "t1 = t1.drop(\"CASE\", axis=1)\n",
        "t1.head()\n",
        "t1 = (t1 - t1.min()) / (t1.max() - t1.min())"
      ],
      "metadata": {
        "id": "nTCrwMEA8Sda"
      },
      "execution_count": null,
      "outputs": []
    },
    {
      "cell_type": "code",
      "source": [
        "X_master=t1.iloc[42].to_numpy()\n",
        "X_master = np.reshape(X_master,(1, X_master.size))\n",
        "print(clf.predict(X_master))"
      ],
      "metadata": {
        "colab": {
          "base_uri": "https://localhost:8080/"
        },
        "id": "YhFyvqXZAyWr",
        "outputId": "ea7b1c95-4750-4486-9fdf-ff1a7b29e85e"
      },
      "execution_count": null,
      "outputs": [
        {
          "output_type": "stream",
          "name": "stdout",
          "text": [
            "[0]\n"
          ]
        }
      ]
    }
  ]
}