{
  "nbformat": 4,
  "nbformat_minor": 0,
  "metadata": {
    "colab": {
      "provenance": []
    },
    "kernelspec": {
      "name": "python3",
      "display_name": "Python 3"
    },
    "language_info": {
      "name": "python"
    }
  },
  "cells": [
    {
      "cell_type": "code",
      "execution_count": null,
      "metadata": {
        "id": "eh7TqKwJYwzM"
      },
      "outputs": [],
      "source": [
        "!pip install pymrmr"
      ]
    },
    {
      "cell_type": "code",
      "source": [
        "from google.colab import drive\n",
        "drive.mount('/content/gdrive',force_remount=True)\n",
        "\n",
        "my_drive = '/content/gdrive/My Drive/'\n",
        "import sys\n",
        "sys.path.append(my_drive)"
      ],
      "metadata": {
        "id": "4vJwmNLMbbJI"
      },
      "execution_count": null,
      "outputs": []
    },
    {
      "cell_type": "code",
      "source": [
        "import io\n",
        "import pandas as pd\n",
        "import matplotlib.pyplot as plt\n",
        "import numpy as np\n",
        "import os\n",
        "import sklearn.metrics as metrics\n",
        "from sklearn.metrics import precision_score\n",
        "from sklearn.metrics import recall_score\n",
        "from sklearn.metrics import roc_curve\n",
        "from sklearn.metrics import roc_auc_score\n",
        "from sklearn.model_selection import StratifiedKFold\n",
        "from xgboost import XGBClassifier\n",
        "from sklearn.metrics import accuracy_score\n",
        "from sklearn.metrics import f1_score\n",
        "from sklearn.pipeline import make_pipeline\n",
        "import statistics\n",
        "from sklearn.metrics import matthews_corrcoef\n",
        "import pymrmr\n",
        "import pickle\n",
        "import joblib\n",
        "from sklearn.metrics import plot_confusion_matrix\n",
        "from sklearn.ensemble import RandomForestClassifier\n",
        "from xgboost import XGBRFClassifier\n",
        "import csv"
      ],
      "metadata": {
        "id": "8qhw_HJHbjcn"
      },
      "execution_count": null,
      "outputs": []
    },
    {
      "cell_type": "code",
      "source": [
        "data_dir = '/content/gdrive/My Drive/Brats 2018/MICCAI_BraTS_2018_Data_Training/'"
      ],
      "metadata": {
        "id": "_Sh-iHlAb6al"
      },
      "execution_count": null,
      "outputs": []
    },
    {
      "cell_type": "code",
      "source": [
        "hgg_clf = '/content/gdrive/My Drive/Brats 2018/MICCAI_BraTS_2018_Data_Training/HGG_testing_data.csv'\n",
        "lgg_clf = '/content/gdrive/My Drive/Brats 2018/MICCAI_BraTS_2018_Data_Training/LGG_testing_data.csv'"
      ],
      "metadata": {
        "id": "KbBIhErHpg-J"
      },
      "execution_count": null,
      "outputs": []
    },
    {
      "cell_type": "code",
      "source": [
        "hgg1=pd.read_csv(data_dir + \"HGG_data.csv\")#Path to csv\n",
        "lgg1=pd.read_csv(data_dir + \"LGG_data.csv\")"
      ],
      "metadata": {
        "id": "rE2Onw4Sb8uR"
      },
      "execution_count": null,
      "outputs": []
    },
    {
      "cell_type": "code",
      "source": [
        "lgg1[\"GRADE\"]=0\n",
        "hgg1[\"GRADE\"]=1\n",
        "hgg= hgg1.sample(frac=1, random_state=42).reset_index(drop=True)\n",
        "lgg= lgg1.sample(frac=1, random_state=42).reset_index(drop=True)"
      ],
      "metadata": {
        "id": "35kGKfGhcBWL"
      },
      "execution_count": null,
      "outputs": []
    },
    {
      "cell_type": "code",
      "source": [
        "auc_lr=[]\n",
        "spe_lr=[]\n",
        "sen_lr=[]\n",
        "mcc_lr=[]\n",
        "acc_lr=[]\n",
        "f1_lr=[]\n",
        "pre_lr=[]\n",
        "rec_lr=[]\n",
        "pre_lrt=[]\n",
        "rec_lrt=[]\n",
        "auc_lrt=[]\n",
        "spe_lrt=[]\n",
        "mcc_lrt=[]\n",
        "sen_lrt=[]\n",
        "acc_lrt=[]\n",
        "f1_lrt=[]"
      ],
      "metadata": {
        "id": "sBTLy2rrcChP"
      },
      "execution_count": null,
      "outputs": []
    },
    {
      "cell_type": "code",
      "source": [
        "master=pd.concat([lgg, hgg])\n",
        "master= master.sample(frac=1, random_state=42).reset_index(drop=True)\n",
        "master= pd.concat([master[\"GRADE\"], master.drop(\"GRADE\", axis=1)], axis=1)\n",
        "Y=master[\"GRADE\"]\n",
        "master = (master - master.min()) / (master.max() - master.min())"
      ],
      "metadata": {
        "id": "aIQdle22cFTx"
      },
      "execution_count": null,
      "outputs": []
    },
    {
      "cell_type": "code",
      "source": [
        "# print(type(master))"
      ],
      "metadata": {
        "colab": {
          "base_uri": "https://localhost:8080/"
        },
        "id": "o9VhoDnIK6Gg",
        "outputId": "0ba46a76-0377-41b4-d183-0744a11bb068"
      },
      "execution_count": null,
      "outputs": [
        {
          "output_type": "stream",
          "name": "stdout",
          "text": [
            "<class 'pandas.core.frame.DataFrame'>\n"
          ]
        }
      ]
    },
    {
      "cell_type": "code",
      "source": [
        "# cv = StratifiedKFold(n_splits=5, random_state=42, shuffle=True)\n",
        "# for train_index, test_index in cv.split(master, Y):\n",
        "#     #print(\"Train Index: \", train_index, \"\\n\")\n",
        "#     #print(\"Test Index: \", test_index)\n",
        "\n",
        "#     train, test = master.iloc[train_index], master.iloc[test_index]\n",
        "#     Y_train, Y_test= Y.iloc[train_index], Y.iloc[test_index]\n",
        "#     # features=pymrmr.mRMR(train, 'MIQ', 40)\n",
        "\n",
        "#     print(type(train))"
      ],
      "metadata": {
        "colab": {
          "base_uri": "https://localhost:8080/"
        },
        "id": "67q6BWRYFiMq",
        "outputId": "54fd8989-e078-4259-cc42-88634bd4d24a"
      },
      "execution_count": null,
      "outputs": [
        {
          "output_type": "stream",
          "name": "stdout",
          "text": [
            "<class 'pandas.core.frame.DataFrame'>\n",
            "<class 'pandas.core.frame.DataFrame'>\n",
            "<class 'pandas.core.frame.DataFrame'>\n",
            "<class 'pandas.core.frame.DataFrame'>\n",
            "<class 'pandas.core.frame.DataFrame'>\n"
          ]
        }
      ]
    },
    {
      "cell_type": "code",
      "source": [
        "model_list = []\n",
        "model_result_list=[]\n",
        "model_predicted=[]\n",
        "\n",
        "x_test_vals = []\n",
        "y_test_vals = []\n",
        "\n",
        "fet = []\n",
        "\n",
        "cv = StratifiedKFold(n_splits=5, random_state=42, shuffle=True)\n",
        "clf = RandomForestClassifier(random_state=0, n_estimators=200, criterion='gini', max_features=\"auto\", min_samples_split=10, min_samples_leaf=1)\n",
        "for train_index, test_index in cv.split(master, Y):\n",
        "    #print(\"Train Index: \", train_index, \"\\n\")\n",
        "    #print(\"Test Index: \", test_index)\n",
        "\n",
        "    train, test = master.iloc[train_index], master.iloc[test_index]\n",
        "    Y_train, Y_test= Y.iloc[train_index], Y.iloc[test_index]\n",
        "    features=pymrmr.mRMR(train, 'MIQ', 40)#no of features selected-40\n",
        "    print(\"Best Features: \", features)\n",
        "\n",
        "    dataset=master[features]\n",
        "    fet.append(features)\n",
        "\n",
        "    X_train=dataset.iloc[train_index]\n",
        "    X_test=dataset.iloc[test_index]\n",
        "\n",
        "    #clf = XGBRFClassifier(random_state=0, n_estimators=200, criterion='gini', max_features=\"auto\", min_samples_split=10, min_samples_leaf=1).fit(X_train, Y_train)\n",
        "    # clf = RandomForestClassifier(random_state=0, n_estimators=200, criterion='gini', max_features=\"auto\", min_samples_split=10, min_samples_leaf=1).fit(X_train, Y_train)\n",
        "    clf = clf.fit(X_train, Y_train)\n",
        "\n",
        "    my_model = clf\n",
        "    model_list.append(clf)\n",
        "\n",
        "    pred = clf.predict(X_test)\n",
        "\n",
        "    x_test_vals.append(X_test)\n",
        "    y_test_vals.append(Y_test)\n",
        "\n",
        "    model_predicted.append(pred)\n",
        "    # cm = metrics.confusion_matrix(Y_test, pred)\n",
        "    TP = cm[1][1]\n",
        "    TN = cm[0][0]\n",
        "    FP = cm[0][1]\n",
        "    FN = cm[1][0]\n",
        "    sen_l = (TP / float(TP + FN))\n",
        "    spe_l = (TN / float(TN + FP))\n",
        "    pre_l = precision_score(Y_test, pred)\n",
        "    rec_l = recall_score(Y_test, pred)\n",
        "    mcc_l = matthews_corrcoef(Y_test, pred)\n",
        "    acc_l = accuracy_score(Y_test, pred)\n",
        "    probs = clf.predict_proba(X_test)\n",
        "    probs = probs[:, 1]\n",
        "    auc_l = roc_auc_score(Y_test, probs)\n",
        "    f1_l= f1_score(Y_test, pred)\n",
        "\n",
        "\n",
        "    pred = clf.predict(X_train)\n",
        "\n",
        "    # cm = metrics.confusion_matrix(Y_train, pred)\n",
        "    TP = cm[1][1]\n",
        "    TN = cm[0][0]\n",
        "    FP = cm[0][1]\n",
        "    FN = cm[1][0]\n",
        "    sen_lt = (TP / float(TP + FN))\n",
        "    spe_lt = (TN / float(TN + FP))\n",
        "    pre_lt = precision_score(Y_train, pred)\n",
        "    rec_lt = recall_score(Y_train, pred)\n",
        "    mcc_lt = matthews_corrcoef(Y_train, pred)\n",
        "    acc_lt = accuracy_score(Y_train, pred)\n",
        "    probs = clf.predict_proba(X_train)\n",
        "    probs = probs[:, 1]\n",
        "    auc_lt = roc_auc_score(Y_train, probs)\n",
        "    f1_lt = f1_score(Y_train, pred)\n",
        "\n",
        "\n",
        "    auc_lr.append(auc_l)\n",
        "    spe_lr.append(spe_l)\n",
        "    sen_lr.append(sen_l)\n",
        "    mcc_lr.append(mcc_l)\n",
        "    acc_lr.append(acc_l)\n",
        "    f1_lr.append(f1_l)\n",
        "    rec_lr.append(rec_l)\n",
        "    pre_lr.append(pre_l)\n",
        "\n",
        "    pre_lrt.append(pre_lt)\n",
        "    rec_lrt.append(rec_lt)\n",
        "    auc_lrt.append(auc_lt)\n",
        "    spe_lrt.append(spe_lt)\n",
        "    sen_lrt.append(sen_lt)\n",
        "    mcc_lrt.append(mcc_lt)\n",
        "    acc_lrt.append(acc_lt)\n",
        "    f1_lrt.append(f1_lt)\n",
        "\n",
        "    data = { \"phase\":[\"Testing\", \"Training\"],\n",
        "          \"Precision\" : [statistics.mean(pre_lr), statistics.mean(pre_lrt)],\n",
        "          \"Recall\" : [statistics.mean(rec_lr), statistics.mean(rec_lrt)],\n",
        "          \"Accuracy\" : [statistics.mean(acc_lr), statistics.mean(acc_lrt)],\n",
        "          \"AUC\" : [statistics.mean(auc_lr), statistics.mean(auc_lrt)],\n",
        "          \"F1 Score\" : [statistics.mean(f1_lr), statistics.mean(f1_lrt)]\n",
        "        }\n",
        "    model_result_list.append(data)\n",
        "\n",
        "    model_list.append(clf)\n",
        "\n",
        "# with open('saved_model_XGB', \"wb\") as f:\n",
        "#   pickle.dumps(my_model, f)\n",
        "\n",
        "#joblib.dump(my_model, data_dir + 'XGB_model.pkl')\n",
        "\n",
        "\n",
        "print(\"TRAIN:\")\n",
        "print(\"PRE:\", statistics.mean(pre_lrt))\n",
        "print(\"REC:\", statistics.mean(rec_lrt))\n",
        "print(\"SPE:\", statistics.mean(spe_lrt))\n",
        "print(\"MCC:\", statistics.mean(mcc_lrt))\n",
        "print(\"SEN:\", statistics.mean(sen_lrt))\n",
        "print(\"ACC:\", statistics.mean(acc_lrt))\n",
        "print(\"AUC:\", statistics.mean(auc_lrt))\n",
        "print(\"F1:\", statistics.mean(f1_lrt))\n",
        "\n",
        "print(\"TEST:\")\n",
        "print(\"PRE:\", statistics.mean(pre_lr))\n",
        "print(\"REC:\", statistics.mean(rec_lr))\n",
        "print(\"SPE:\", statistics.mean(spe_lr))\n",
        "print(\"MCC:\", statistics.mean(mcc_lr))\n",
        "print(\"SEN:\", statistics.mean(sen_lr))\n",
        "print(\"ACC:\", statistics.mean(acc_lr))\n",
        "print(\"AUC:\", statistics.mean(auc_lr))\n",
        "print(\"F1:\", statistics.mean(f1_lr))"
      ],
      "metadata": {
        "id": "tUdl9acZcIPB",
        "colab": {
          "base_uri": "https://localhost:8080/"
        },
        "outputId": "003a7b33-e94a-460d-ca41-38413039d0f3"
      },
      "execution_count": null,
      "outputs": [
        {
          "output_type": "stream",
          "name": "stdout",
          "text": [
            "Best Features:  ['original_firstorder_Maximum ROI 2', 'original_firstorder_Skewness ROI 2', 'original_glszm_SmallAreaEmphasis ROI 2', 'original_glrlm_LongRunEmphasis ROI 1', 'original_glrlm_GrayLevelNonUniformity ROI 1', 'original_firstorder_RootMeanSquared ROI 2', 'original_glszm_GrayLevelNonUniformityNormalized ROI 2', 'original_gldm_DependenceNonUniformityNormalized ROI 1', 'original_shape_Elongation ROI 3', 'original_ngtdm_Busyness ROI 1', 'original_shape_Sphericity ROI 2', 'original_glcm_MCC ROI 1', 'original_gldm_DependenceNonUniformity ROI 2', 'original_glcm_Idmn ROI 1', 'original_firstorder_TotalEnergy ROI 2', 'original_glrlm_RunPercentage ROI 1', 'original_glrlm_RunLengthNonUniformity ROI 1', 'original_firstorder_TotalEnergy ROI 3', 'original_firstorder_Kurtosis ROI 2', 'original_glszm_GrayLevelVariance ROI 3', 'original_ngtdm_Strength ROI 2', 'original_shape_Flatness ROI 3', 'original_ngtdm_Coarseness ROI 2', 'original_gldm_SmallDependenceLowGrayLevelEmphasis ROI 2', 'original_glrlm_ShortRunLowGrayLevelEmphasis ROI 2', 'original_glrlm_RunEntropy ROI 2', 'original_glrlm_ShortRunEmphasis ROI 3', 'original_shape_MajorAxisLength ROI 3', 'original_shape_MinorAxisLength ROI 3', 'original_firstorder_Kurtosis ROI 3', 'original_shape_Maximum2DDiameterRow ROI 3', 'original_gldm_DependenceVariance ROI 1', 'original_firstorder_Skewness ROI 1', 'original_glcm_InverseVariance ROI 2', 'original_shape_Elongation ROI 2', 'original_ngtdm_Contrast ROI 2', 'original_glszm_GrayLevelNonUniformity ROI 2', 'original_glrlm_ShortRunHighGrayLevelEmphasis ROI 2', 'original_glrlm_RunLengthNonUniformity ROI 2', 'original_glszm_SizeZoneNonUniformity ROI 2']\n",
            "Best Features:  ['original_firstorder_Maximum ROI 2', 'original_glszm_LargeAreaEmphasis ROI 1', 'original_glszm_LargeAreaHighGrayLevelEmphasis ROI 1', 'original_firstorder_Mean ROI 3', 'original_glcm_MCC ROI 1', 'original_gldm_DependenceNonUniformityNormalized ROI 1', 'original_glcm_Imc2 ROI 1', 'original_glszm_GrayLevelNonUniformityNormalized ROI 2', 'original_firstorder_Skewness ROI 2', 'original_gldm_DependenceNonUniformity ROI 2', 'original_shape_Elongation ROI 3', 'original_ngtdm_Busyness ROI 1', 'original_shape_Sphericity ROI 2', 'original_glcm_Idmn ROI 1', 'original_firstorder_TotalEnergy ROI 3', 'original_glrlm_ShortRunEmphasis ROI 1', 'original_firstorder_RootMeanSquared ROI 3', 'original_glszm_SizeZoneNonUniformity ROI 1', 'original_glrlm_RunEntropy ROI 1', 'original_glszm_GrayLevelVariance ROI 3', 'original_firstorder_Range ROI 2', 'original_glszm_LargeAreaLowGrayLevelEmphasis ROI 2', 'original_shape_Flatness ROI 3', 'original_shape_Maximum2DDiameterColumn ROI 3', 'original_gldm_SmallDependenceLowGrayLevelEmphasis ROI 2', 'original_gldm_LowGrayLevelEmphasis ROI 2', 'original_ngtdm_Coarseness ROI 3', 'original_glcm_DifferenceAverage ROI 3', 'original_shape_Maximum2DDiameterRow ROI 3', 'original_glrlm_RunLengthNonUniformityNormalized ROI 3', 'original_shape_MinorAxisLength ROI 3', 'original_shape_Elongation ROI 2', 'original_gldm_DependenceVariance ROI 1', 'original_glcm_DifferenceAverage ROI 2', 'original_shape_SurfaceVolumeRatio ROI 1', 'original_glszm_SizeZoneNonUniformity ROI 2', 'original_ngtdm_Contrast ROI 2', 'original_glszm_SmallAreaHighGrayLevelEmphasis ROI 2', 'original_ngtdm_Complexity ROI 2', 'original_ngtdm_Contrast ROI 3']\n",
            "Best Features:  ['original_firstorder_Maximum ROI 1', 'original_firstorder_Range ROI 2', 'original_glszm_ZoneVariance ROI 1', 'original_glszm_SmallAreaEmphasis ROI 1', 'original_shape_MeshVolume ROI 2', 'original_shape_MinorAxisLength ROI 2', 'original_shape_Sphericity ROI 2', 'original_glrlm_RunEntropy ROI 1', 'original_glrlm_LongRunEmphasis ROI 1', 'original_glszm_LargeAreaHighGrayLevelEmphasis ROI 1', 'original_firstorder_Mean ROI 3', 'original_glszm_LowGrayLevelZoneEmphasis ROI 2', 'original_glcm_Imc2 ROI 1', 'original_gldm_DependenceNonUniformityNormalized ROI 3', 'original_glcm_MCC ROI 1', 'original_glszm_ZonePercentage ROI 1', 'original_firstorder_TotalEnergy ROI 3', 'original_firstorder_RootMeanSquared ROI 3', 'original_glrlm_RunLengthNonUniformity ROI 1', 'original_glszm_LargeAreaEmphasis ROI 2', 'original_shape_Maximum3DDiameter ROI 3', 'original_ngtdm_Coarseness ROI 3', 'original_shape_MinorAxisLength ROI 3', 'original_glrlm_ShortRunLowGrayLevelEmphasis ROI 2', 'original_shape_Maximum2DDiameterRow ROI 3', 'original_glszm_GrayLevelVariance ROI 2', 'original_ngtdm_Contrast ROI 2', 'original_glcm_DifferenceEntropy ROI 3', 'original_gldm_LargeDependenceHighGrayLevelEmphasis ROI 3', 'original_firstorder_Kurtosis ROI 3', 'original_glrlm_RunEntropy ROI 2', 'original_shape_Elongation ROI 2', 'original_shape_SurfaceVolumeRatio ROI 1', 'original_firstorder_Skewness ROI 1', 'original_gldm_SmallDependenceLowGrayLevelEmphasis ROI 2', 'original_glcm_Autocorrelation ROI 3', 'original_firstorder_Range ROI 3', 'original_shape_Maximum2DDiameterSlice ROI 3', 'original_glrlm_ShortRunHighGrayLevelEmphasis ROI 2', 'original_glrlm_ShortRunEmphasis ROI 2']\n",
            "Best Features:  ['original_firstorder_Maximum ROI 1', 'original_glrlm_RunVariance ROI 1', 'original_glrlm_RunEntropy ROI 1', 'original_glszm_SmallAreaEmphasis ROI 2', 'original_glcm_JointAverage ROI 3', 'original_glszm_LargeAreaEmphasis ROI 1', 'original_glszm_LargeAreaHighGrayLevelEmphasis ROI 1', 'original_gldm_LargeDependenceHighGrayLevelEmphasis ROI 1', 'original_glszm_GrayLevelNonUniformityNormalized ROI 2', 'original_firstorder_Skewness ROI 2', 'original_glszm_LargeAreaHighGrayLevelEmphasis ROI 2', 'original_ngtdm_Busyness ROI 2', 'original_gldm_DependenceNonUniformity ROI 2', 'original_glcm_Idmn ROI 1', 'original_glcm_Imc2 ROI 1', 'original_glrlm_RunLengthNonUniformityNormalized ROI 1', 'original_firstorder_Median ROI 2', 'original_firstorder_Energy ROI 3', 'original_firstorder_Range ROI 3', 'original_glszm_GrayLevelVariance ROI 3', 'original_glszm_LargeAreaEmphasis ROI 2', 'original_shape_Flatness ROI 3', 'original_ngtdm_Strength ROI 2', 'original_glrlm_GrayLevelVariance ROI 2', 'original_glrlm_LowGrayLevelRunEmphasis ROI 2', 'original_glrlm_RunEntropy ROI 2', 'original_glrlm_RunLengthNonUniformity ROI 2', 'original_glrlm_RunLengthNonUniformityNormalized ROI 3', 'original_ngtdm_Contrast ROI 3', 'original_ngtdm_Coarseness ROI 3', 'original_firstorder_Kurtosis ROI 3', 'original_glcm_DifferenceEntropy ROI 3', 'original_shape_Maximum2DDiameterRow ROI 3', 'original_gldm_SmallDependenceLowGrayLevelEmphasis ROI 2', 'original_shape_Elongation ROI 2', 'original_firstorder_Skewness ROI 1', 'original_glcm_Imc1 ROI 2', 'original_glcm_InverseVariance ROI 2', 'original_shape_SurfaceVolumeRatio ROI 1', 'original_glrlm_ShortRunEmphasis ROI 2']\n",
            "Best Features:  ['original_firstorder_Maximum ROI 1', 'original_glszm_LargeAreaEmphasis ROI 1', 'original_glszm_LargeAreaHighGrayLevelEmphasis ROI 1', 'original_glrlm_RunEntropy ROI 3', 'original_glszm_HighGrayLevelZoneEmphasis ROI 1', 'original_glszm_LargeAreaHighGrayLevelEmphasis ROI 2', 'original_glszm_SizeZoneNonUniformityNormalized ROI 1', 'original_glrlm_LongRunEmphasis ROI 3', 'original_ngtdm_Busyness ROI 1', 'original_gldm_DependenceNonUniformity ROI 2', 'original_firstorder_Skewness ROI 2', 'original_shape_Elongation ROI 1', 'original_shape_Sphericity ROI 2', 'original_gldm_DependenceNonUniformityNormalized ROI 3', 'original_glcm_Idmn ROI 1', 'original_glcm_MCC ROI 1', 'original_glcm_Imc2 ROI 1', 'original_glrlm_RunLengthNonUniformity ROI 3', 'original_glszm_GrayLevelVariance ROI 3', 'original_firstorder_Median ROI 2', 'original_firstorder_Kurtosis ROI 2', 'original_firstorder_Kurtosis ROI 3', 'original_firstorder_MeanAbsoluteDeviation ROI 3', 'original_glcm_InverseVariance ROI 2', 'original_glcm_Imc2 ROI 2', 'original_glcm_DifferenceAverage ROI 3', 'original_glszm_GrayLevelVariance ROI 2', 'original_shape_Flatness ROI 3', 'original_shape_MajorAxisLength ROI 3', 'original_glrlm_RunEntropy ROI 2', 'original_glrlm_RunLengthNonUniformity ROI 2', 'original_shape_MinorAxisLength ROI 3', 'original_glcm_Imc1 ROI 2', 'original_glszm_LowGrayLevelZoneEmphasis ROI 3', 'original_glcm_Correlation ROI 1', 'original_glrlm_ShortRunEmphasis ROI 3', 'original_shape_SurfaceVolumeRatio ROI 1', 'original_firstorder_Skewness ROI 1', 'original_gldm_SmallDependenceEmphasis ROI 2', 'original_firstorder_Minimum ROI 3']\n",
            "TRAIN:\n",
            "PRE: 0.9776940813044924\n",
            "REC: 0.9952095808383233\n",
            "SPE: 0.926271186440678\n",
            "MCC: 0.9472046462721196\n",
            "SEN: 0.9976047904191616\n",
            "ACC: 0.9796772055670344\n",
            "AUC: 0.9986050658972612\n",
            "F1: 0.9863604432604447\n",
            "TEST:\n",
            "PRE: 0.9178311352729956\n",
            "REC: 0.9570267131242741\n",
            "SPE: 0.8369047619047618\n",
            "MCC: 0.7471497270667699\n",
            "SEN: 0.978513356562137\n",
            "ACC: 0.9046365914786968\n",
            "AUC: 0.9515801117194845\n",
            "F1: 0.936796299915315\n"
          ]
        }
      ]
    },
    {
      "cell_type": "code",
      "source": [
        "fet[4]\n",
        "\n",
        "np.savetxt(data_dir + \"Features.csv\",\n",
        "           fet[4],\n",
        "           delimiter =\", \",\n",
        "           fmt ='% s')"
      ],
      "metadata": {
        "id": "pgY1mTYIYr3l"
      },
      "execution_count": null,
      "outputs": []
    },
    {
      "cell_type": "code",
      "source": [
        "#model_result_list[4]\n",
        "#my_model = model_list[4]\n",
        "\n",
        "joblib.dump(clf, data_dir + 'RFC_model_01.pkl')"
      ],
      "metadata": {
        "colab": {
          "base_uri": "https://localhost:8080/"
        },
        "id": "MtLf1f5byju8",
        "outputId": "01ed61ae-53db-4a53-fac3-3ae200e31ecb"
      },
      "execution_count": null,
      "outputs": [
        {
          "output_type": "execute_result",
          "data": {
            "text/plain": [
              "['/content/gdrive/My Drive/Brats 2018/MICCAI_BraTS_2018_Data_Training/RFC_model_01.pkl']"
            ]
          },
          "metadata": {},
          "execution_count": 47
        }
      ]
    },
    {
      "cell_type": "code",
      "source": [
        "data"
      ],
      "metadata": {
        "id": "59NcgJfA4G2A",
        "outputId": "203564cf-8cbe-4e57-f3db-6d0d9bafc7f1",
        "colab": {
          "base_uri": "https://localhost:8080/"
        }
      },
      "execution_count": null,
      "outputs": [
        {
          "output_type": "execute_result",
          "data": {
            "text/plain": [
              "{'AUC': [0.9495496930479509, 0.9962451465108524],\n",
              " 'Accuracy': [0.9032205513784461, 0.9745553779579743],\n",
              " 'F1 Score': [0.9355266586693146, 0.9829337646854016],\n",
              " 'Precision': [0.9202595008176403, 0.9739597466077414],\n",
              " 'Recall': [0.9522415795586527, 0.9921000855431993],\n",
              " 'phase': ['Testing', 'Training']}"
            ]
          },
          "metadata": {},
          "execution_count": 26
        }
      ]
    },
    {
      "cell_type": "code",
      "source": [
        "metrics = pd.DataFrame.from_dict(data)\n",
        "metrics.to_csv(\"/content/gdrive/My Drive/Brats 2018/MICCAI_BraTS_2018_Data_Training/metrics.csv\")"
      ],
      "metadata": {
        "id": "gyfnOdj1zH0-"
      },
      "execution_count": null,
      "outputs": []
    },
    {
      "cell_type": "code",
      "source": [
        "metrics"
      ],
      "metadata": {
        "colab": {
          "base_uri": "https://localhost:8080/",
          "height": 112
        },
        "id": "812Zj0ny3zGL",
        "outputId": "a867fde8-4233-4c2f-b7b5-2bab82a2d455"
      },
      "execution_count": null,
      "outputs": [
        {
          "output_type": "execute_result",
          "data": {
            "text/plain": [
              "      phase  Precision    Recall  Accuracy       AUC  F1 Score\n",
              "0   Testing    0.92026  0.952242  0.903221  0.949550  0.935527\n",
              "1  Training    0.97396  0.992100  0.974555  0.996245  0.982934"
            ],
            "text/html": [
              "\n",
              "  <div id=\"df-205e7aa2-895e-416c-a9a7-2941647882a1\">\n",
              "    <div class=\"colab-df-container\">\n",
              "      <div>\n",
              "<style scoped>\n",
              "    .dataframe tbody tr th:only-of-type {\n",
              "        vertical-align: middle;\n",
              "    }\n",
              "\n",
              "    .dataframe tbody tr th {\n",
              "        vertical-align: top;\n",
              "    }\n",
              "\n",
              "    .dataframe thead th {\n",
              "        text-align: right;\n",
              "    }\n",
              "</style>\n",
              "<table border=\"1\" class=\"dataframe\">\n",
              "  <thead>\n",
              "    <tr style=\"text-align: right;\">\n",
              "      <th></th>\n",
              "      <th>phase</th>\n",
              "      <th>Precision</th>\n",
              "      <th>Recall</th>\n",
              "      <th>Accuracy</th>\n",
              "      <th>AUC</th>\n",
              "      <th>F1 Score</th>\n",
              "    </tr>\n",
              "  </thead>\n",
              "  <tbody>\n",
              "    <tr>\n",
              "      <th>0</th>\n",
              "      <td>Testing</td>\n",
              "      <td>0.92026</td>\n",
              "      <td>0.952242</td>\n",
              "      <td>0.903221</td>\n",
              "      <td>0.949550</td>\n",
              "      <td>0.935527</td>\n",
              "    </tr>\n",
              "    <tr>\n",
              "      <th>1</th>\n",
              "      <td>Training</td>\n",
              "      <td>0.97396</td>\n",
              "      <td>0.992100</td>\n",
              "      <td>0.974555</td>\n",
              "      <td>0.996245</td>\n",
              "      <td>0.982934</td>\n",
              "    </tr>\n",
              "  </tbody>\n",
              "</table>\n",
              "</div>\n",
              "      <button class=\"colab-df-convert\" onclick=\"convertToInteractive('df-205e7aa2-895e-416c-a9a7-2941647882a1')\"\n",
              "              title=\"Convert this dataframe to an interactive table.\"\n",
              "              style=\"display:none;\">\n",
              "        \n",
              "  <svg xmlns=\"http://www.w3.org/2000/svg\" height=\"24px\"viewBox=\"0 0 24 24\"\n",
              "       width=\"24px\">\n",
              "    <path d=\"M0 0h24v24H0V0z\" fill=\"none\"/>\n",
              "    <path d=\"M18.56 5.44l.94 2.06.94-2.06 2.06-.94-2.06-.94-.94-2.06-.94 2.06-2.06.94zm-11 1L8.5 8.5l.94-2.06 2.06-.94-2.06-.94L8.5 2.5l-.94 2.06-2.06.94zm10 10l.94 2.06.94-2.06 2.06-.94-2.06-.94-.94-2.06-.94 2.06-2.06.94z\"/><path d=\"M17.41 7.96l-1.37-1.37c-.4-.4-.92-.59-1.43-.59-.52 0-1.04.2-1.43.59L10.3 9.45l-7.72 7.72c-.78.78-.78 2.05 0 2.83L4 21.41c.39.39.9.59 1.41.59.51 0 1.02-.2 1.41-.59l7.78-7.78 2.81-2.81c.8-.78.8-2.07 0-2.86zM5.41 20L4 18.59l7.72-7.72 1.47 1.35L5.41 20z\"/>\n",
              "  </svg>\n",
              "      </button>\n",
              "      \n",
              "  <style>\n",
              "    .colab-df-container {\n",
              "      display:flex;\n",
              "      flex-wrap:wrap;\n",
              "      gap: 12px;\n",
              "    }\n",
              "\n",
              "    .colab-df-convert {\n",
              "      background-color: #E8F0FE;\n",
              "      border: none;\n",
              "      border-radius: 50%;\n",
              "      cursor: pointer;\n",
              "      display: none;\n",
              "      fill: #1967D2;\n",
              "      height: 32px;\n",
              "      padding: 0 0 0 0;\n",
              "      width: 32px;\n",
              "    }\n",
              "\n",
              "    .colab-df-convert:hover {\n",
              "      background-color: #E2EBFA;\n",
              "      box-shadow: 0px 1px 2px rgba(60, 64, 67, 0.3), 0px 1px 3px 1px rgba(60, 64, 67, 0.15);\n",
              "      fill: #174EA6;\n",
              "    }\n",
              "\n",
              "    [theme=dark] .colab-df-convert {\n",
              "      background-color: #3B4455;\n",
              "      fill: #D2E3FC;\n",
              "    }\n",
              "\n",
              "    [theme=dark] .colab-df-convert:hover {\n",
              "      background-color: #434B5C;\n",
              "      box-shadow: 0px 1px 3px 1px rgba(0, 0, 0, 0.15);\n",
              "      filter: drop-shadow(0px 1px 2px rgba(0, 0, 0, 0.3));\n",
              "      fill: #FFFFFF;\n",
              "    }\n",
              "  </style>\n",
              "\n",
              "      <script>\n",
              "        const buttonEl =\n",
              "          document.querySelector('#df-205e7aa2-895e-416c-a9a7-2941647882a1 button.colab-df-convert');\n",
              "        buttonEl.style.display =\n",
              "          google.colab.kernel.accessAllowed ? 'block' : 'none';\n",
              "\n",
              "        async function convertToInteractive(key) {\n",
              "          const element = document.querySelector('#df-205e7aa2-895e-416c-a9a7-2941647882a1');\n",
              "          const dataTable =\n",
              "            await google.colab.kernel.invokeFunction('convertToInteractive',\n",
              "                                                     [key], {});\n",
              "          if (!dataTable) return;\n",
              "\n",
              "          const docLinkHtml = 'Like what you see? Visit the ' +\n",
              "            '<a target=\"_blank\" href=https://colab.research.google.com/notebooks/data_table.ipynb>data table notebook</a>'\n",
              "            + ' to learn more about interactive tables.';\n",
              "          element.innerHTML = '';\n",
              "          dataTable['output_type'] = 'display_data';\n",
              "          await google.colab.output.renderOutput(dataTable, element);\n",
              "          const docLink = document.createElement('div');\n",
              "          docLink.innerHTML = docLinkHtml;\n",
              "          element.appendChild(docLink);\n",
              "        }\n",
              "      </script>\n",
              "    </div>\n",
              "  </div>\n",
              "  "
            ]
          },
          "metadata": {},
          "execution_count": 25
        }
      ]
    },
    {
      "cell_type": "code",
      "source": [
        "a = '/content/gdrive/My Drive/Brats 2018/MICCAI_BraTS_2018_Data_Training/RFC_model_01.pkl'\n",
        "\n",
        "fileobj = open(a, 'rb')\n",
        "\n",
        "b = pickle.load(fileobj)\n",
        "\n",
        "print(b)"
      ],
      "metadata": {
        "colab": {
          "base_uri": "https://localhost:8080/"
        },
        "id": "V7bQNi0IiQji",
        "outputId": "00c37619-8187-4208-e632-6f49fedf18ed"
      },
      "execution_count": null,
      "outputs": [
        {
          "output_type": "stream",
          "name": "stdout",
          "text": [
            "['original_firstorder_Maximum ROI 1' 'original_firstorder_Range ROI 2'\n",
            " 'original_glszm_ZoneVariance ROI 1'\n",
            " 'original_glszm_SmallAreaEmphasis ROI 1'\n",
            " 'original_shape_MeshVolume ROI 2' 'original_shape_MinorAxisLength ROI 2'\n",
            " 'original_shape_Sphericity ROI 2' 'original_glrlm_RunEntropy ROI 1'\n",
            " 'original_glrlm_LongRunEmphasis ROI 1'\n",
            " 'original_glszm_LargeAreaHighGrayLevelEmphasis ROI 1'\n",
            " 'original_firstorder_Mean ROI 3'\n",
            " 'original_glszm_LowGrayLevelZoneEmphasis ROI 2'\n",
            " 'original_glcm_Imc2 ROI 1'\n",
            " 'original_gldm_DependenceNonUniformityNormalized ROI 3'\n",
            " 'original_glcm_MCC ROI 1' 'original_glszm_ZonePercentage ROI 1'\n",
            " 'original_firstorder_TotalEnergy ROI 3'\n",
            " 'original_firstorder_RootMeanSquared ROI 3'\n",
            " 'original_glrlm_RunLengthNonUniformity ROI 1'\n",
            " 'original_glszm_LargeAreaEmphasis ROI 2'\n",
            " 'original_shape_Maximum3DDiameter ROI 3'\n",
            " 'original_ngtdm_Coarseness ROI 3' 'original_shape_MinorAxisLength ROI 3'\n",
            " 'original_glrlm_ShortRunLowGrayLevelEmphasis ROI 2'\n",
            " 'original_shape_Maximum2DDiameterRow ROI 3'\n",
            " 'original_glszm_GrayLevelVariance ROI 2' 'original_ngtdm_Contrast ROI 2'\n",
            " 'original_glcm_DifferenceEntropy ROI 3'\n",
            " 'original_gldm_LargeDependenceHighGrayLevelEmphasis ROI 3'\n",
            " 'original_firstorder_Kurtosis ROI 3' 'original_glrlm_RunEntropy ROI 2'\n",
            " 'original_shape_Elongation ROI 2'\n",
            " 'original_shape_SurfaceVolumeRatio ROI 1'\n",
            " 'original_firstorder_Skewness ROI 1'\n",
            " 'original_gldm_SmallDependenceLowGrayLevelEmphasis ROI 2'\n",
            " 'original_glcm_Autocorrelation ROI 3' 'original_firstorder_Range ROI 3'\n",
            " 'original_shape_Maximum2DDiameterSlice ROI 3'\n",
            " 'original_glrlm_ShortRunHighGrayLevelEmphasis ROI 2'\n",
            " 'original_glrlm_ShortRunEmphasis ROI 2']\n"
          ]
        }
      ]
    }
  ]
}